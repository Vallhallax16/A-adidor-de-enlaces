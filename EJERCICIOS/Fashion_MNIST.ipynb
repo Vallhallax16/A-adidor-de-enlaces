{
  "nbformat": 4,
  "nbformat_minor": 0,
  "metadata": {
    "colab": {
      "provenance": [],
      "gpuType": "T4",
      "include_colab_link": true
    },
    "kernelspec": {
      "name": "python3",
      "display_name": "Python 3"
    },
    "language_info": {
      "name": "python"
    },
    "accelerator": "GPU"
  },
  "cells": [
    {
      "cell_type": "markdown",
      "metadata": {
        "id": "view-in-github",
        "colab_type": "text"
      },
      "source": [
        "<a href=\"https://colab.research.google.com/github/Vallhallax16/A-adidor-de-enlaces/blob/main/EJERCICIOS/Fashion_MNIST.ipynb\" target=\"_parent\"><img src=\"https://colab.research.google.com/assets/colab-badge.svg\" alt=\"Open In Colab\"/></a>"
      ]
    },
    {
      "cell_type": "code",
      "execution_count": null,
      "metadata": {
        "id": "iBx9p5mdFYCQ"
      },
      "outputs": [],
      "source": [
        "#Importamos las librerias y funciones necesarias\n",
        "import numpy as np\n",
        "from keras.models import Sequential\n",
        "from keras.layers import Dense, Conv2D, MaxPooling2D, Flatten\n",
        "from tensorflow.keras.utils import to_categorical\n",
        "import matplotlib.pyplot as plt\n",
        "from keras.datasets import fashion_mnist\n",
        "from keras.layers import Dropout\n",
        "\n",
        "#Se busca que con este modelo se puedan interpretar las imágenes de prendas de\n",
        "#ropa contenidas en la clase Fashion MNIST"
      ]
    },
    {
      "cell_type": "code",
      "source": [
        "#Se carga la base de datos y se separan los sets de entrenamiento y de prueba\n",
        "(x_train, y_train), (x_test, y_test) = fashion_mnist.load_data()"
      ],
      "metadata": {
        "id": "pPTf33SSFgCf"
      },
      "execution_count": null,
      "outputs": []
    },
    {
      "cell_type": "code",
      "source": [
        "#Se muestra una de las imagenes contenidas en la base de datos en escalas de grises\n",
        "plt.imshow(x_train[0], cmap= plt.cm.gray)"
      ],
      "metadata": {
        "colab": {
          "base_uri": "https://localhost:8080/",
          "height": 447
        },
        "id": "5NpzezmdFhVw",
        "outputId": "4b15b1c8-248b-4ccf-f34d-3f59ee8dc6b7"
      },
      "execution_count": null,
      "outputs": [
        {
          "output_type": "execute_result",
          "data": {
            "text/plain": [
              "<matplotlib.image.AxesImage at 0x7d630c2064d0>"
            ]
          },
          "metadata": {},
          "execution_count": 3
        },
        {
          "output_type": "display_data",
          "data": {
            "text/plain": [
              "<Figure size 640x480 with 1 Axes>"
            ],
            "image/png": "[encoded data removed]"
          },
          "metadata": {}
        }
      ]
    },
    {
      "cell_type": "code",
      "source": [
        "#Se divide entre 255 ya que es la escala de grises\n",
        "x_train = x_train.astype('float32')/255\n",
        "x_test = x_test.astype('float32')/255"
      ],
      "metadata": {
        "id": "aiRtTuvsFilF"
      },
      "execution_count": null,
      "outputs": []
    },
    {
      "cell_type": "code",
      "source": [
        "x_train.shape"
      ],
      "metadata": {
        "colab": {
          "base_uri": "https://localhost:8080/"
        },
        "id": "s52BW4o8FkIj",
        "outputId": "a46266d1-4cc0-411a-aa59-aca385cb9b89"
      },
      "execution_count": null,
      "outputs": [
        {
          "output_type": "execute_result",
          "data": {
            "text/plain": [
              "(60000, 28, 28)"
            ]
          },
          "metadata": {},
          "execution_count": 5
        }
      ]
    },
    {
      "cell_type": "code",
      "source": [
        "#Ajustar el tamaño de los datoas para incluir el canal de color, aunque solo sea un canal en grises (lo requieren las capas Conv2D)\n",
        "x_train = np.expand_dims(x_train, -1)\n",
        "x_test = np.expand_dims(x_test, -1)"
      ],
      "metadata": {
        "id": "lNbc_rvbFlVd"
      },
      "execution_count": null,
      "outputs": []
    },
    {
      "cell_type": "code",
      "source": [
        "x_train.shape"
      ],
      "metadata": {
        "colab": {
          "base_uri": "https://localhost:8080/"
        },
        "id": "q2EsiMjIFml5",
        "outputId": "549a6338-e2c9-45ed-a833-667e76194a91"
      },
      "execution_count": null,
      "outputs": [
        {
          "output_type": "execute_result",
          "data": {
            "text/plain": [
              "(60000, 28, 28, 1)"
            ]
          },
          "metadata": {},
          "execution_count": 7
        }
      ]
    },
    {
      "cell_type": "code",
      "source": [
        "y_train = to_categorical(y_train)\n",
        "y_test = to_categorical(y_test)"
      ],
      "metadata": {
        "id": "70adbFjAFnyh"
      },
      "execution_count": null,
      "outputs": []
    },
    {
      "cell_type": "code",
      "source": [
        "#El 16 es el número de filtros que se le quiere colocar.\n",
        "#El strides es un valor que va diciendo como desplazar el kernel.\n",
        "model = Sequential()\n",
        "model.add(Conv2D(16, (5,5), strides=(1,1), activation='relu', input_shape=(28,28,1)))\n",
        "#El maxpool divide en cuadrantes y toma el máximo de ese cuadrante\n",
        "model.add(MaxPooling2D(pool_size=(2,2), strides=(2,2)))\n",
        "#Convierte la matriz en un vector fila\n",
        "model.add(Flatten())\n",
        "model.add(Dense(200, activation='relu'))\n",
        "model.add(Dense(100, activation='sigmoid'))\n",
        "model.add(Dense(50, activation='sigmoid'))\n",
        "model.add(Dense(10, activation='softmax'))"
      ],
      "metadata": {
        "id": "Z9wvhFGnFpeS"
      },
      "execution_count": null,
      "outputs": []
    },
    {
      "cell_type": "code",
      "source": [
        "model.compile(optimizer='adam', loss='categorical_crossentropy', metrics=['accuracy'])"
      ],
      "metadata": {
        "id": "adSGVaoTFq3N"
      },
      "execution_count": null,
      "outputs": []
    },
    {
      "cell_type": "code",
      "source": [
        "history = model.fit(x_train, y_train, validation_data=(x_test, y_test), epochs=10, batch_size=15)"
      ],
      "metadata": {
        "colab": {
          "base_uri": "https://localhost:8080/"
        },
        "id": "SWdijup2Fsft",
        "outputId": "bd0be4d8-822b-4b6a-e824-1c3996842adb"
      },
      "execution_count": null,
      "outputs": [
        {
          "output_type": "stream",
          "name": "stdout",
          "text": [
            "Epoch 1/10\n",
            "4000/4000 [==============================] - 29s 6ms/step - loss: 0.4897 - accuracy: 0.8315 - val_loss: 0.3758 - val_accuracy: 0.8639\n",
            "Epoch 2/10\n",
            "4000/4000 [==============================] - 18s 4ms/step - loss: 0.2918 - accuracy: 0.8932 - val_loss: 0.3051 - val_accuracy: 0.8898\n",
            "Epoch 3/10\n",
            "4000/4000 [==============================] - 17s 4ms/step - loss: 0.2459 - accuracy: 0.9085 - val_loss: 0.2801 - val_accuracy: 0.8989\n",
            "Epoch 4/10\n",
            "4000/4000 [==============================] - 16s 4ms/step - loss: 0.2116 - accuracy: 0.9218 - val_loss: 0.2600 - val_accuracy: 0.9059\n",
            "Epoch 5/10\n",
            "4000/4000 [==============================] - 16s 4ms/step - loss: 0.1856 - accuracy: 0.9318 - val_loss: 0.2490 - val_accuracy: 0.9119\n",
            "Epoch 6/10\n",
            "4000/4000 [==============================] - 19s 5ms/step - loss: 0.1620 - accuracy: 0.9392 - val_loss: 0.2642 - val_accuracy: 0.9077\n",
            "Epoch 7/10\n",
            "4000/4000 [==============================] - 17s 4ms/step - loss: 0.1427 - accuracy: 0.9480 - val_loss: 0.2689 - val_accuracy: 0.9112\n",
            "Epoch 8/10\n",
            "4000/4000 [==============================] - 17s 4ms/step - loss: 0.1272 - accuracy: 0.9525 - val_loss: 0.2770 - val_accuracy: 0.9082\n",
            "Epoch 9/10\n",
            "4000/4000 [==============================] - 17s 4ms/step - loss: 0.1132 - accuracy: 0.9571 - val_loss: 0.2829 - val_accuracy: 0.9131\n",
            "Epoch 10/10\n",
            "4000/4000 [==============================] - 17s 4ms/step - loss: 0.1004 - accuracy: 0.9632 - val_loss: 0.2944 - val_accuracy: 0.9135\n"
          ]
        }
      ]
    },
    {
      "cell_type": "code",
      "source": [
        "#Se muestra el resumen del modelo, posteriormente, se muestra el por qué de los datos.\n",
        "model.summary()"
      ],
      "metadata": {
        "colab": {
          "base_uri": "https://localhost:8080/"
        },
        "id": "BkX3rgVIFuQ1",
        "outputId": "ff0e9e4c-6c4e-439e-a7d5-8fbccccaaa63"
      },
      "execution_count": null,
      "outputs": [
        {
          "output_type": "stream",
          "name": "stdout",
          "text": [
            "Model: \"sequential\"\n",
            "_________________________________________________________________\n",
            " Layer (type)                Output Shape              Param #   \n",
            "=================================================================\n",
            " conv2d (Conv2D)             (None, 24, 24, 16)        416       \n",
            "                                                                 \n",
            " max_pooling2d (MaxPooling2  (None, 12, 12, 16)        0         \n",
            " D)                                                              \n",
            "                                                                 \n",
            " flatten (Flatten)           (None, 2304)              0         \n",
            "                                                                 \n",
            " dense (Dense)               (None, 200)               461000    \n",
            "                                                                 \n",
            " dense_1 (Dense)             (None, 100)               20100     \n",
            "                                                                 \n",
            " dense_2 (Dense)             (None, 50)                5050      \n",
            "                                                                 \n",
            " dense_3 (Dense)             (None, 10)                510       \n",
            "                                                                 \n",
            "=================================================================\n",
            "Total params: 487076 (1.86 MB)\n",
            "Trainable params: 487076 (1.86 MB)\n",
            "Non-trainable params: 0 (0.00 Byte)\n",
            "_________________________________________________________________\n"
          ]
        }
      ]
    },
    {
      "cell_type": "markdown",
      "source": [
        "Summary:\n",
        "\n",
        "A continuación, se muestra como se obtuvo el número de parámetros del summary.\n",
        "\n",
        "*   Capa Conv2D\n",
        "Para el outputshape se obtiene el 24 al tener:\n",
        "\n",
        "Tamaño de la entrada - (Número de filtros + 1)\n",
        "\n",
        "(28-5)+1=24\n",
        "\n",
        "El 24 es el tamaño de la imagen resultante.\n",
        "\n",
        "Por otro lado, el 16 corresponde al número de filtros.\n",
        "\n",
        "\n",
        "Para el número de parámetros en esta capa se tienen 16 filtros y como se había determinado cada filtro es de 5x5. Por otro lado, se agrega el bias. El cálculo se realiza de la siguiente manera:\n",
        "\n",
        "Tamaño de la matriz de la convolución x número de canales x número de filtros + un bias por cada filtro\n",
        "\n",
        "5 x 5 x 1 x 16 + 16 = 416\n",
        "\n",
        "*   Max_pooling2D\n",
        "\n",
        "Para el outputshape, el (None, 12, 12, 16) corresponde a la matriz reducida. Como el pooling sólo reduce el tamaño de la imagen, no hay parámetros a entrenar, por ello el número es 0.\n",
        "\n",
        "*   Flatten\n",
        "\n",
        "Para el outputshape, se obtiene de la siguiente manera:\n",
        "\n",
        "Outputshape = 12 x 12 x 16\n",
        "\n",
        "Al igual que el pooling, este solo convierte la matriz en vector fila, no hay parámetros a entrenar, por ello el número es 0.\n",
        "*   Dense\n",
        "\n",
        "EL número de parámetros se obtiene:\n",
        "\n",
        "(Número de entradas+ Bias) x Número de neuronas\n",
        "\n",
        "(2305 + 1) * 200 = 461,000\n",
        "\n",
        "*   Dense_1\n",
        "\n",
        "Al igual que en la anterior, el número de parámetros se obtiene:\n",
        "\n",
        "(Número de entradas+ Bias) x Número de neuronas\n",
        "\n",
        "\n",
        "(200 + 1) * 100 = 20,100\n",
        "\n",
        "*   Dense_2\n",
        "\n",
        "Al igual que en la anterior, el número de parámetros se obtiene:\n",
        "\n",
        "(Número de entradas+ Bias) x Número de neuronas\n",
        "\n",
        "(100 + 1) * 50 = 5,050\n",
        "\n",
        "*   Dense_3\n",
        "\n",
        "Al igual que en la anterior, el número de parámetros se obtiene:\n",
        "\n",
        "(Número de entradas+ Bias) x Número de neuronas\n",
        "\n",
        "(50 + 1) * 10 = 510"
      ],
      "metadata": {
        "id": "qzaRifL3SX4q"
      }
    },
    {
      "cell_type": "code",
      "source": [
        "#Se grafica la precisión del modelo\n",
        "plt.plot(history.history['accuracy'])\n",
        "plt.plot(history.history['val_accuracy'],'r--')\n",
        "plt.title('Precision del modelo')\n",
        "plt.ylabel('Precisión')\n",
        "plt.xlabel('Épocas')\n",
        "plt.legend(['Entrenamiento','Prueba'], loc='upper left')\n",
        "plt.show\n",
        "plt.savefig('figura01.png',dpi=300)"
      ],
      "metadata": {
        "colab": {
          "base_uri": "https://localhost:8080/",
          "height": 474
        },
        "id": "AZKTRZFWFvfE",
        "outputId": "cb454471-b0b2-4c0c-d2af-77e34e0ea558"
      },
      "execution_count": null,
      "outputs": [
        {
          "output_type": "display_data",
          "data": {
            "text/plain": [
              "<Figure size 640x480 with 1 Axes>"
            ],
            "image/png": "[encoded data removed]"
          },
          "metadata": {}
        }
      ]
    },
    {
      "cell_type": "code",
      "source": [
        "#Se grafican las pérdidas del modelo\n",
        "plt.plot(history.history['loss'])\n",
        "plt.plot(history.history['val_loss'],'r--')\n",
        "plt.title('Pérdidas del modelo')\n",
        "plt.ylabel('Perdidas')\n",
        "plt.xlabel('Épocas')\n",
        "plt.legend(['Entrenamiento','Prueba'], loc='upper left')\n",
        "plt.show\n",
        "plt.savefig('figura02.png',dpi=300)"
      ],
      "metadata": {
        "colab": {
          "base_uri": "https://localhost:8080/",
          "height": 474
        },
        "id": "H6qZmkQVFwpH",
        "outputId": "7c48e99b-c93e-4356-db76-d1c8473475d3"
      },
      "execution_count": null,
      "outputs": [
        {
          "output_type": "display_data",
          "data": {
            "text/plain": [
              "<Figure size 640x480 with 1 Axes>"
            ],
            "image/png": "[encoded data removed]"
          },
          "metadata": {}
        }
      ]
    },
    {
      "cell_type": "code",
      "source": [
        "#Ver imagen de prueba\n",
        "plt.imshow(x_test[38, :, :, 0], cmap=plt.cm.binary)"
      ],
      "metadata": {
        "colab": {
          "base_uri": "https://localhost:8080/",
          "height": 447
        },
        "id": "ZHGtxHsVFx4n",
        "outputId": "afe6f631-6aca-405d-d3ed-15998d449381"
      },
      "execution_count": null,
      "outputs": [
        {
          "output_type": "execute_result",
          "data": {
            "text/plain": [
              "<matplotlib.image.AxesImage at 0x7d6308f5b700>"
            ]
          },
          "metadata": {},
          "execution_count": 15
        },
        {
          "output_type": "display_data",
          "data": {
            "text/plain": [
              "<Figure size 640x480 with 1 Axes>"
            ],
            "image/png": "[encoded data removed]"
          },
          "metadata": {}
        }
      ]
    },
    {
      "cell_type": "code",
      "source": [
        "#Predecir con el modelo entrenado, no es entrenar, pasa por la red y dice las predicciones.\n",
        "predictions = model.predict(x_test)"
      ],
      "metadata": {
        "colab": {
          "base_uri": "https://localhost:8080/"
        },
        "id": "CKJGa9AEF0Nl",
        "outputId": "f58c0acd-ebaa-472f-b868-f9b7d82966ea"
      },
      "execution_count": null,
      "outputs": [
        {
          "output_type": "stream",
          "name": "stdout",
          "text": [
            "313/313 [==============================] - 1s 2ms/step\n"
          ]
        }
      ]
    },
    {
      "cell_type": "code",
      "source": [
        "predictions"
      ],
      "metadata": {
        "colab": {
          "base_uri": "https://localhost:8080/"
        },
        "id": "DoziAooeF00d",
        "outputId": "ad0c7cbe-e873-4f64-a62e-38713b8d0b90"
      },
      "execution_count": null,
      "outputs": [
        {
          "output_type": "execute_result",
          "data": {
            "text/plain": [
              "array([[2.8403716e-05, 1.3070220e-08, 1.1958559e-06, ..., 6.0746934e-05,\n",
              "        2.5319505e-06, 9.9989295e-01],\n",
              "       [2.7092337e-04, 7.6096619e-08, 9.9828869e-01, ..., 1.8647150e-07,\n",
              "        3.5542735e-07, 1.8877829e-07],\n",
              "       [2.6304857e-05, 9.9995363e-01, 3.5353517e-06, ..., 2.8426140e-07,\n",
              "        7.0286308e-07, 3.3263348e-08],\n",
              "       ...,\n",
              "       [8.1649032e-06, 5.2145828e-07, 6.4336296e-06, ..., 6.9493904e-06,\n",
              "        9.9994195e-01, 1.7160935e-06],\n",
              "       [2.4925670e-05, 9.9994457e-01, 5.3346416e-06, ..., 4.1196878e-07,\n",
              "        8.0980357e-07, 3.8465082e-08],\n",
              "       [2.4277326e-05, 5.1749799e-07, 5.8249052e-04, ..., 6.8169236e-02,\n",
              "        2.7715834e-04, 2.6286612e-04]], dtype=float32)"
            ]
          },
          "metadata": {},
          "execution_count": 17
        }
      ]
    },
    {
      "cell_type": "code",
      "source": [
        "#Clase con la probabilidad más alta, te da solo la predicción de esa celda\n",
        "predictions[38]"
      ],
      "metadata": {
        "colab": {
          "base_uri": "https://localhost:8080/"
        },
        "id": "jXZrr38UF2TP",
        "outputId": "c61c83e1-fc19-44c2-dd36-f5a3f0599989"
      },
      "execution_count": null,
      "outputs": [
        {
          "output_type": "execute_result",
          "data": {
            "text/plain": [
              "array([8.6197788e-06, 4.9118167e-09, 3.0772046e-06, 6.2994709e-06,\n",
              "       6.9268876e-06, 3.3932043e-05, 2.6258107e-07, 9.9972183e-01,\n",
              "       1.6788121e-06, 2.1736741e-04], dtype=float32)"
            ]
          },
          "metadata": {},
          "execution_count": 18
        }
      ]
    },
    {
      "cell_type": "code",
      "source": [
        "#Clase con la probabilidad más alta, en una red es importante saber donde se cometen los errores\n",
        "np.argmax(predictions[38])"
      ],
      "metadata": {
        "colab": {
          "base_uri": "https://localhost:8080/"
        },
        "id": "WlxWyf9rF3eF",
        "outputId": "bc38c531-c63d-4420-87c1-ff1a5834b441"
      },
      "execution_count": null,
      "outputs": [
        {
          "output_type": "execute_result",
          "data": {
            "text/plain": [
              "7"
            ]
          },
          "metadata": {},
          "execution_count": 19
        }
      ]
    },
    {
      "cell_type": "code",
      "source": [
        "y_test[38]"
      ],
      "metadata": {
        "colab": {
          "base_uri": "https://localhost:8080/"
        },
        "id": "zv9V6yT_F4rt",
        "outputId": "e4b83d26-5eab-4727-da9e-eeaf16394577"
      },
      "execution_count": null,
      "outputs": [
        {
          "output_type": "execute_result",
          "data": {
            "text/plain": [
              "array([0., 0., 0., 0., 0., 0., 0., 1., 0., 0.], dtype=float32)"
            ]
          },
          "metadata": {},
          "execution_count": 20
        }
      ]
    },
    {
      "cell_type": "code",
      "source": [
        "#Con los pesos sabemos donde está almacenado el aprendizaje de la red\n",
        "W = model.get_weights()"
      ],
      "metadata": {
        "id": "Bs-hLlUHF5-y"
      },
      "execution_count": null,
      "outputs": []
    },
    {
      "cell_type": "code",
      "source": [
        "model.save('model.keras')"
      ],
      "metadata": {
        "id": "NdL_6xuoF7X2"
      },
      "execution_count": null,
      "outputs": []
    },
    {
      "cell_type": "code",
      "source": [
        "#Sacamos capas de pesos y observamos como están compuestas, separa en capas diferentes los bias y la capa\n",
        "weights = model.get_weights()\n",
        "for i, weight_matrix in enumerate(weights):\n",
        "  print(f\"Capa {i}: {weight_matrix.shape}\")"
      ],
      "metadata": {
        "colab": {
          "base_uri": "https://localhost:8080/"
        },
        "id": "mLyeN2pbF9DA",
        "outputId": "59363902-b82d-4654-b2d1-b0200a9fdace"
      },
      "execution_count": null,
      "outputs": [
        {
          "output_type": "stream",
          "name": "stdout",
          "text": [
            "Capa 0: (5, 5, 1, 16)\n",
            "Capa 1: (16,)\n",
            "Capa 2: (2304, 200)\n",
            "Capa 3: (200,)\n",
            "Capa 4: (200, 100)\n",
            "Capa 5: (100,)\n",
            "Capa 6: (100, 50)\n",
            "Capa 7: (50,)\n",
            "Capa 8: (50, 10)\n",
            "Capa 9: (10,)\n"
          ]
        }
      ]
    },
    {
      "cell_type": "code",
      "source": [
        "#Capturamos los filtros en la primer capa\n",
        "filtros = W[0].reshape(5, 5, 16)"
      ],
      "metadata": {
        "id": "GX7EoSGxF-V2"
      },
      "execution_count": null,
      "outputs": []
    },
    {
      "cell_type": "code",
      "source": [
        "#plot, las caracteristicas que obtiene el filtro es conocido como extractor de características.\n",
        "plt.figure(figsize=(20,10))\n",
        "plt.rcParams.update({'font.size': 10})\n",
        "for i in range(0, 16):\n",
        "  plt.subplot(4, 4, i+1)\n",
        "  plt.imshow(filtros[:,:,i], cmap='gray')\n",
        "  plt.title('Filtro' + str(i+1))\n",
        "  plt.axis('off')\n",
        "plt.show()"
      ],
      "metadata": {
        "colab": {
          "base_uri": "https://localhost:8080/",
          "height": 662
        },
        "id": "O2FIfUsIF_ml",
        "outputId": "11957c47-1145-408f-e8bd-7e64161aca8f"
      },
      "execution_count": null,
      "outputs": [
        {
          "output_type": "display_data",
          "data": {
            "text/plain": [
              "<Figure size 2000x1000 with 16 Axes>"
            ],
            "image/png": "[encoded data removed]"
          },
          "metadata": {}
        }
      ]
    },
    {
      "cell_type": "code",
      "source": [
        "#Construimos una red conteniendo sólo la primer capa\n",
        "capa1 = Sequential()\n",
        "capa1.add(model.get_layer('conv2d'))\n",
        "capa1.summary()"
      ],
      "metadata": {
        "colab": {
          "base_uri": "https://localhost:8080/"
        },
        "id": "m6X5zGFNGA3r",
        "outputId": "9e02215f-1c28-4a59-dae1-10f44502be3e"
      },
      "execution_count": null,
      "outputs": [
        {
          "output_type": "stream",
          "name": "stdout",
          "text": [
            "Model: \"sequential_1\"\n",
            "_________________________________________________________________\n",
            " Layer (type)                Output Shape              Param #   \n",
            "=================================================================\n",
            " conv2d (Conv2D)             (None, 24, 24, 16)        416       \n",
            "                                                                 \n",
            "=================================================================\n",
            "Total params: 416 (1.62 KB)\n",
            "Trainable params: 416 (1.62 KB)\n",
            "Non-trainable params: 0 (0.00 Byte)\n",
            "_________________________________________________________________\n"
          ]
        }
      ]
    },
    {
      "cell_type": "code",
      "source": [
        "#Número entre 0 y 9,999 para seleccionar una imagen de prueba\n",
        "idx = 300\n",
        "\n",
        "#Aplicar la capa1 a la imagen\n",
        "filtered_image = capa1.predict(x_test[idx:idx+1])"
      ],
      "metadata": {
        "colab": {
          "base_uri": "https://localhost:8080/"
        },
        "id": "8j83kYIjGCO0",
        "outputId": "9c2067b1-3153-4b0f-9dd6-c89aabb1b27f"
      },
      "execution_count": null,
      "outputs": [
        {
          "output_type": "stream",
          "name": "stdout",
          "text": [
            "1/1 [==============================] - 0s 78ms/step\n"
          ]
        }
      ]
    },
    {
      "cell_type": "code",
      "source": [
        "#plot\n",
        "plt.figure(figsize=(1.7, 1.7))\n",
        "plt.rcParams.update({'font.size':10})\n",
        "plt.imshow(x_test[idx,:,:,0], cmap='gray')\n",
        "plt.title('Input image')\n",
        "plt.axis('off')\n",
        "plt.show()\n",
        "\n",
        "plt.figure(figsize=(16,8))\n",
        "plt.rcParams.update({'font.size':10})\n",
        "for i in range(0, 16):\n",
        "  plt.subplot(4, 4, i+1)\n",
        "  plt.imshow(filtered_image[0,:,:,i], cmap='gray')\n",
        "  plt.title('Filtro'+ str(i+1))\n",
        "  plt.axis('off')\n",
        "plt.show()"
      ],
      "metadata": {
        "colab": {
          "base_uri": "https://localhost:8080/",
          "height": 841
        },
        "id": "wkn6r80PGDr6",
        "outputId": "b496ce11-95e6-4aa5-fbba-45f58125b029"
      },
      "execution_count": null,
      "outputs": [
        {
          "output_type": "display_data",
          "data": {
            "text/plain": [
              "<Figure size 170x170 with 1 Axes>"
            ],
            "image/png": "[encoded data removed]"
          },
          "metadata": {}
        },
        {
          "output_type": "display_data",
          "data": {
            "text/plain": [
              "<Figure size 1600x800 with 16 Axes>"
            ],
            "image/png": "[encoded data removed]"
          },
          "metadata": {}
        }
      ]
    },
    {
      "cell_type": "code",
      "source": [
        "#Construimos otra red conteniendo la segunda capa de filtros\n",
        "capa2 = Sequential()\n",
        "capa2.add(model.get_layer('conv2d'))\n",
        "capa2.add(model.get_layer('max_pooling2d'))\n",
        "capa2.summary()"
      ],
      "metadata": {
        "colab": {
          "base_uri": "https://localhost:8080/"
        },
        "id": "IYumeuzEGFKP",
        "outputId": "75906151-27d7-4cdc-a497-c01b7627223d"
      },
      "execution_count": null,
      "outputs": [
        {
          "output_type": "stream",
          "name": "stdout",
          "text": [
            "Model: \"sequential_2\"\n",
            "_________________________________________________________________\n",
            " Layer (type)                Output Shape              Param #   \n",
            "=================================================================\n",
            " conv2d (Conv2D)             (None, 24, 24, 16)        416       \n",
            "                                                                 \n",
            " max_pooling2d (MaxPooling2  (None, 12, 12, 16)        0         \n",
            " D)                                                              \n",
            "                                                                 \n",
            "=================================================================\n",
            "Total params: 416 (1.62 KB)\n",
            "Trainable params: 416 (1.62 KB)\n",
            "Non-trainable params: 0 (0.00 Byte)\n",
            "_________________________________________________________________\n"
          ]
        }
      ]
    },
    {
      "cell_type": "code",
      "source": [
        "#Número entre 0 y 9,999 para seleccionar una imagen de prueba\n",
        "idx = 300\n",
        "\n",
        "#Aplicar la capa1 a la imagen\n",
        "filtered_image2 = capa2.predict(x_test[idx:idx+1])"
      ],
      "metadata": {
        "colab": {
          "base_uri": "https://localhost:8080/"
        },
        "id": "Y1Jivix3GGlx",
        "outputId": "7797e258-1c6f-446a-9dde-c2cbfca8267a"
      },
      "execution_count": null,
      "outputs": [
        {
          "output_type": "stream",
          "name": "stdout",
          "text": [
            "1/1 [==============================] - 0s 82ms/step\n"
          ]
        }
      ]
    },
    {
      "cell_type": "code",
      "source": [
        "#plot\n",
        "plt.figure(figsize=(1.7, 1.7))\n",
        "plt.rcParams.update({'font.size':10})\n",
        "plt.imshow(x_test[idx,:,:,0], cmap='gray')\n",
        "plt.title('Input image')\n",
        "plt.axis('off')\n",
        "plt.show()\n",
        "\n",
        "plt.figure(figsize=(16,8))\n",
        "plt.rcParams.update({'font.size':10})\n",
        "for i in range(0, 16):\n",
        "  plt.subplot(4, 4, i+1)\n",
        "  plt.imshow(filtered_image2[0,:,:,i], cmap='gray')\n",
        "  plt.title('Filtro'+ str(i+1))\n",
        "  plt.axis('off')\n",
        "plt.show()"
      ],
      "metadata": {
        "colab": {
          "base_uri": "https://localhost:8080/",
          "height": 841
        },
        "id": "vU4vo1poGIDa",
        "outputId": "bf4d0764-1599-4ef5-d37e-d0b0b68c7f71"
      },
      "execution_count": null,
      "outputs": [
        {
          "output_type": "display_data",
          "data": {
            "text/plain": [
              "<Figure size 170x170 with 1 Axes>"
            ],
            "image/png": "[encoded data removed]"
          },
          "metadata": {}
        },
        {
          "output_type": "display_data",
          "data": {
            "text/plain": [
              "<Figure size 1600x800 with 16 Axes>"
            ],
            "image/png": "[encoded data removed]"
          },
          "metadata": {}
        }
      ]
    },
    {
      "cell_type": "code",
      "source": [
        "#Se tienen todas las etiquetas de datos para mostrarlas en los reportes de errores\n",
        "tag_list = [ \"T-shirt/top\", \"Trouser\", \"Pullover\", \"Dress\", \"Coat\", \"Sandal\", \"Shirt\", \"Sneaker\", \"Bag\", \"Ankle boot\" ]\n",
        "\n",
        "#Se obtiene el índice del arreglo y_test y se extrae su posición de índice\n",
        "def Get_real_index(classified_array):\n",
        "  for i in range(len(classified_array)):\n",
        "  #\n",
        "    if(classified_array[i] == 1):\n",
        "    #\n",
        "      return i\n",
        "    #\n",
        "  #\n",
        "\n",
        "#Clase para almacenar las listas para su posterior reporte\n",
        "class Listas_especificas:\n",
        "  def __init__(self):\n",
        "  #\n",
        "    self.lista_0 = []\n",
        "    self.lista_1 = []\n",
        "    self.lista_2 = []\n",
        "    self.lista_3 = []\n",
        "    self.lista_4 = []\n",
        "    self.lista_5 = []\n",
        "    self.lista_6 = []\n",
        "    self.lista_7 = []\n",
        "    self.lista_8 = []\n",
        "    self.lista_9 = []\n",
        "  #\n",
        "\n",
        "  def Get_lista(self, opcion):\n",
        "  #\n",
        "    if(opcion == 0):\n",
        "      return self.lista_0\n",
        "\n",
        "    elif(opcion == 1):\n",
        "      return self.lista_1\n",
        "\n",
        "    elif(opcion == 2):\n",
        "      return self.lista_2\n",
        "\n",
        "    elif(opcion == 3):\n",
        "      return self.lista_3\n",
        "\n",
        "    elif(opcion == 4):\n",
        "      return self.lista_4\n",
        "\n",
        "    elif(opcion == 5):\n",
        "      return self.lista_5\n",
        "\n",
        "    elif(opcion == 6):\n",
        "      return self.lista_6\n",
        "\n",
        "    elif(opcion == 7):\n",
        "      return self.lista_7\n",
        "\n",
        "    elif(opcion == 8):\n",
        "      return self.lista_8\n",
        "\n",
        "    elif(opcion == 9):\n",
        "      return self.lista_9\n",
        "  #\n",
        "\n",
        "  def Set_lista(self, opcion, valor):\n",
        "  #\n",
        "    if(opcion == 0):\n",
        "      self.lista_0.append(valor)\n",
        "\n",
        "    elif(opcion == 1):\n",
        "      self.lista_1.append(valor)\n",
        "\n",
        "    elif(opcion == 2):\n",
        "      self.lista_2.append(valor)\n",
        "\n",
        "    elif(opcion == 3):\n",
        "      self.lista_3.append(valor)\n",
        "\n",
        "    elif(opcion == 4):\n",
        "      self.lista_4.append(valor)\n",
        "\n",
        "    elif(opcion == 5):\n",
        "      self.lista_5.append(valor)\n",
        "\n",
        "    elif(opcion == 6):\n",
        "      self.lista_6.append(valor)\n",
        "\n",
        "    elif(opcion == 7):\n",
        "      self.lista_7.append(valor)\n",
        "\n",
        "    elif(opcion == 8):\n",
        "      self.lista_8.append(valor)\n",
        "\n",
        "    elif(opcion == 9):\n",
        "      self.lista_9.append(valor)\n",
        "  #"
      ],
      "metadata": {
        "id": "xWdfodZTGJu6"
      },
      "execution_count": null,
      "outputs": []
    },
    {
      "cell_type": "code",
      "source": [
        "lista_errores = []\n",
        "\n",
        "#Objeto que instancia la clase Listas_específicas\n",
        "listas_especificas = Listas_especificas()\n",
        "\n",
        "for i in range(len(predictions)):\n",
        "#\n",
        "  index = np.argmax(predictions[i])\n",
        "\n",
        "  classified_array = y_test[i]\n",
        "  if(classified_array[index] != 1):\n",
        "  #\n",
        "    real_index = Get_real_index(classified_array)\n",
        "    lista_errores.append(real_index)\n",
        "    listas_especificas.Set_lista(real_index,f\"La imagen {i} fue falsamente reconocida como: {tag_list[index]}\")\n",
        "  #\n",
        "#"
      ],
      "metadata": {
        "id": "pofrdVgjGOxh"
      },
      "execution_count": null,
      "outputs": []
    },
    {
      "cell_type": "code",
      "source": [
        "#Se obtiene la longitud de la lista de errores para poder checar si está bien\n",
        "len(lista_errores)"
      ],
      "metadata": {
        "id": "SqHkwQPzGQeS"
      },
      "execution_count": null,
      "outputs": []
    },
    {
      "cell_type": "code",
      "source": [
        "#Se muestra el listado de errores\n",
        "lista_errores"
      ],
      "metadata": {
        "id": "ae1AAqbLGR7C"
      },
      "execution_count": null,
      "outputs": []
    },
    {
      "cell_type": "code",
      "source": [
        "for i in range(0,10):\n",
        "#\n",
        "  print(f\"La red neuronal falló {lista_errores.count(i)} veces al reconocer la imagen {i} ({tag_list[i]})\")\n",
        "#"
      ],
      "metadata": {
        "colab": {
          "base_uri": "https://localhost:8080/"
        },
        "id": "Fd4f8qYKGTGQ",
        "outputId": "0e384e54-049a-4f32-f493-0b8a646b21d3"
      },
      "execution_count": null,
      "outputs": [
        {
          "output_type": "stream",
          "name": "stdout",
          "text": [
            "La red neuronal falló 153 veces al reconocer la imagen 0 (T-shirt/top)\n",
            "La red neuronal falló 25 veces al reconocer la imagen 1 (Trouser)\n",
            "La red neuronal falló 130 veces al reconocer la imagen 2 (Pullover)\n",
            "La red neuronal falló 54 veces al reconocer la imagen 3 (Dress)\n",
            "La red neuronal falló 163 veces al reconocer la imagen 4 (Coat)\n",
            "La red neuronal falló 21 veces al reconocer la imagen 5 (Sandal)\n",
            "La red neuronal falló 234 veces al reconocer la imagen 6 (Shirt)\n",
            "La red neuronal falló 20 veces al reconocer la imagen 7 (Sneaker)\n",
            "La red neuronal falló 31 veces al reconocer la imagen 8 (Bag)\n",
            "La red neuronal falló 34 veces al reconocer la imagen 9 (Ankle boot)\n"
          ]
        }
      ]
    },
    {
      "cell_type": "code",
      "source": [
        "#Se puede obtener un reporte específico por número, para uno en específico o para todos\n",
        "\n",
        "for i in range(0,10):\n",
        "#\n",
        "  print(f\"Mostrando la lista de los que debían ser: {tag_list[i]}\")\n",
        "  lista_temp = listas_especificas.Get_lista(i)\n",
        "\n",
        "  for k in range(len(lista_temp)):\n",
        "  #\n",
        "    print(lista_temp[k])\n",
        "  #\n",
        "\n",
        "  print(f\"Fin de la lista de los que debían ser: {tag_list[i]}\\n\")\n",
        "#"
      ],
      "metadata": {
        "colab": {
          "base_uri": "https://localhost:8080/"
        },
        "id": "38GSJiO4GUUH",
        "outputId": "5ca8351e-c4fd-457e-a052-7f984e196888"
      },
      "execution_count": null,
      "outputs": [
        {
          "output_type": "stream",
          "name": "stdout",
          "text": [
            "Mostrando la lista de los que debían ser: T-shirt/top\n",
            "La imagen 27 fue falsamente reconocida como: Shirt\n",
            "La imagen 374 fue falsamente reconocida como: Shirt\n",
            "La imagen 381 fue falsamente reconocida como: Shirt\n",
            "La imagen 410 fue falsamente reconocida como: Shirt\n",
            "La imagen 452 fue falsamente reconocida como: Shirt\n",
            "La imagen 454 fue falsamente reconocida como: Pullover\n",
            "La imagen 547 fue falsamente reconocida como: Shirt\n",
            "La imagen 674 fue falsamente reconocida como: Shirt\n",
            "La imagen 736 fue falsamente reconocida como: Shirt\n",
            "La imagen 881 fue falsamente reconocida como: Shirt\n",
            "La imagen 890 fue falsamente reconocida como: Dress\n",
            "La imagen 930 fue falsamente reconocida como: Shirt\n",
            "La imagen 937 fue falsamente reconocida como: Shirt\n",
            "La imagen 948 fue falsamente reconocida como: Shirt\n",
            "La imagen 965 fue falsamente reconocida como: Pullover\n",
            "La imagen 985 fue falsamente reconocida como: Shirt\n",
            "La imagen 1000 fue falsamente reconocida como: Shirt\n",
            "La imagen 1111 fue falsamente reconocida como: Dress\n",
            "La imagen 1139 fue falsamente reconocida como: Shirt\n",
            "La imagen 1158 fue falsamente reconocida como: Shirt\n",
            "La imagen 1218 fue falsamente reconocida como: Dress\n",
            "La imagen 1231 fue falsamente reconocida como: Shirt\n",
            "La imagen 1285 fue falsamente reconocida como: Shirt\n",
            "La imagen 1293 fue falsamente reconocida como: Shirt\n",
            "La imagen 1305 fue falsamente reconocida como: Shirt\n",
            "La imagen 1504 fue falsamente reconocida como: Dress\n",
            "La imagen 1572 fue falsamente reconocida como: Shirt\n",
            "La imagen 1586 fue falsamente reconocida como: Shirt\n",
            "La imagen 1602 fue falsamente reconocida como: Shirt\n",
            "La imagen 1686 fue falsamente reconocida como: Shirt\n",
            "La imagen 1721 fue falsamente reconocida como: Shirt\n",
            "La imagen 1836 fue falsamente reconocida como: Shirt\n",
            "La imagen 1905 fue falsamente reconocida como: Shirt\n",
            "La imagen 1910 fue falsamente reconocida como: Shirt\n",
            "La imagen 1945 fue falsamente reconocida como: Dress\n",
            "La imagen 2224 fue falsamente reconocida como: Shirt\n",
            "La imagen 2236 fue falsamente reconocida como: Dress\n",
            "La imagen 2280 fue falsamente reconocida como: Shirt\n",
            "La imagen 2357 fue falsamente reconocida como: Shirt\n",
            "La imagen 2359 fue falsamente reconocida como: Shirt\n",
            "La imagen 2479 fue falsamente reconocida como: Shirt\n",
            "La imagen 2506 fue falsamente reconocida como: Shirt\n",
            "La imagen 2589 fue falsamente reconocida como: Shirt\n",
            "La imagen 2599 fue falsamente reconocida como: Bag\n",
            "La imagen 2641 fue falsamente reconocida como: Shirt\n",
            "La imagen 2717 fue falsamente reconocida como: Pullover\n",
            "La imagen 2730 fue falsamente reconocida como: Shirt\n",
            "La imagen 2806 fue falsamente reconocida como: Shirt\n",
            "La imagen 2820 fue falsamente reconocida como: Shirt\n",
            "La imagen 2897 fue falsamente reconocida como: Shirt\n",
            "La imagen 2909 fue falsamente reconocida como: Shirt\n",
            "La imagen 2953 fue falsamente reconocida como: Pullover\n",
            "La imagen 3038 fue falsamente reconocida como: Bag\n",
            "La imagen 3074 fue falsamente reconocida como: Shirt\n",
            "La imagen 3132 fue falsamente reconocida como: Pullover\n",
            "La imagen 3311 fue falsamente reconocida como: Shirt\n",
            "La imagen 3451 fue falsamente reconocida como: Shirt\n",
            "La imagen 3466 fue falsamente reconocida como: Bag\n",
            "La imagen 3531 fue falsamente reconocida como: Dress\n",
            "La imagen 3540 fue falsamente reconocida como: Shirt\n",
            "La imagen 3760 fue falsamente reconocida como: Shirt\n",
            "La imagen 3789 fue falsamente reconocida como: Shirt\n",
            "La imagen 3946 fue falsamente reconocida como: Dress\n",
            "La imagen 3953 fue falsamente reconocida como: Bag\n",
            "La imagen 4067 fue falsamente reconocida como: Shirt\n",
            "La imagen 4143 fue falsamente reconocida como: Shirt\n",
            "La imagen 4157 fue falsamente reconocida como: Shirt\n",
            "La imagen 4213 fue falsamente reconocida como: Shirt\n",
            "La imagen 4224 fue falsamente reconocida como: Shirt\n",
            "La imagen 4381 fue falsamente reconocida como: Shirt\n",
            "La imagen 4460 fue falsamente reconocida como: Shirt\n",
            "La imagen 4711 fue falsamente reconocida como: Dress\n",
            "La imagen 4715 fue falsamente reconocida como: Shirt\n",
            "La imagen 4897 fue falsamente reconocida como: Shirt\n",
            "La imagen 4917 fue falsamente reconocida como: Shirt\n",
            "La imagen 4924 fue falsamente reconocida como: Shirt\n",
            "La imagen 5028 fue falsamente reconocida como: Shirt\n",
            "La imagen 5032 fue falsamente reconocida como: Shirt\n",
            "La imagen 5063 fue falsamente reconocida como: Shirt\n",
            "La imagen 5136 fue falsamente reconocida como: Dress\n",
            "La imagen 5144 fue falsamente reconocida como: Shirt\n",
            "La imagen 5166 fue falsamente reconocida como: Shirt\n",
            "La imagen 5172 fue falsamente reconocida como: Shirt\n",
            "La imagen 5259 fue falsamente reconocida como: Shirt\n",
            "La imagen 5297 fue falsamente reconocida como: Dress\n",
            "La imagen 5299 fue falsamente reconocida como: Shirt\n",
            "La imagen 5307 fue falsamente reconocida como: Shirt\n",
            "La imagen 5334 fue falsamente reconocida como: Dress\n",
            "La imagen 5338 fue falsamente reconocida como: Shirt\n",
            "La imagen 5349 fue falsamente reconocida como: Shirt\n",
            "La imagen 5601 fue falsamente reconocida como: Shirt\n",
            "La imagen 5672 fue falsamente reconocida como: Shirt\n",
            "La imagen 5718 fue falsamente reconocida como: Dress\n",
            "La imagen 5939 fue falsamente reconocida como: Shirt\n",
            "La imagen 5966 fue falsamente reconocida como: Dress\n",
            "La imagen 6065 fue falsamente reconocida como: Dress\n",
            "La imagen 6077 fue falsamente reconocida como: Shirt\n",
            "La imagen 6094 fue falsamente reconocida como: Pullover\n",
            "La imagen 6293 fue falsamente reconocida como: Shirt\n",
            "La imagen 6365 fue falsamente reconocida como: Pullover\n",
            "La imagen 6485 fue falsamente reconocida como: Shirt\n",
            "La imagen 6542 fue falsamente reconocida como: Shirt\n",
            "La imagen 6654 fue falsamente reconocida como: Shirt\n",
            "La imagen 6688 fue falsamente reconocida como: Shirt\n",
            "La imagen 6762 fue falsamente reconocida como: Shirt\n",
            "La imagen 6926 fue falsamente reconocida como: Dress\n",
            "La imagen 7103 fue falsamente reconocida como: Pullover\n",
            "La imagen 7117 fue falsamente reconocida como: Shirt\n",
            "La imagen 7139 fue falsamente reconocida como: Shirt\n",
            "La imagen 7249 fue falsamente reconocida como: Pullover\n",
            "La imagen 7818 fue falsamente reconocida como: Pullover\n",
            "La imagen 7831 fue falsamente reconocida como: Shirt\n",
            "La imagen 7868 fue falsamente reconocida como: Shirt\n",
            "La imagen 7883 fue falsamente reconocida como: Shirt\n",
            "La imagen 7899 fue falsamente reconocida como: Shirt\n",
            "La imagen 8007 fue falsamente reconocida como: Shirt\n",
            "La imagen 8031 fue falsamente reconocida como: Shirt\n",
            "La imagen 8059 fue falsamente reconocida como: Shirt\n",
            "La imagen 8128 fue falsamente reconocida como: Shirt\n",
            "La imagen 8137 fue falsamente reconocida como: Dress\n",
            "La imagen 8324 fue falsamente reconocida como: Coat\n",
            "La imagen 8348 fue falsamente reconocida como: Shirt\n",
            "La imagen 8425 fue falsamente reconocida como: Shirt\n",
            "La imagen 8454 fue falsamente reconocida como: Shirt\n",
            "La imagen 8611 fue falsamente reconocida como: Shirt\n",
            "La imagen 8695 fue falsamente reconocida como: Shirt\n",
            "La imagen 8717 fue falsamente reconocida como: Shirt\n",
            "La imagen 8725 fue falsamente reconocida como: Shirt\n",
            "La imagen 8763 fue falsamente reconocida como: Shirt\n",
            "La imagen 8832 fue falsamente reconocida como: Shirt\n",
            "La imagen 8834 fue falsamente reconocida como: Shirt\n",
            "La imagen 8919 fue falsamente reconocida como: Pullover\n",
            "La imagen 8949 fue falsamente reconocida como: Shirt\n",
            "La imagen 9002 fue falsamente reconocida como: Shirt\n",
            "La imagen 9017 fue falsamente reconocida como: Dress\n",
            "La imagen 9061 fue falsamente reconocida como: Shirt\n",
            "La imagen 9074 fue falsamente reconocida como: Shirt\n",
            "La imagen 9237 fue falsamente reconocida como: Pullover\n",
            "La imagen 9251 fue falsamente reconocida como: Coat\n",
            "La imagen 9274 fue falsamente reconocida como: Shirt\n",
            "La imagen 9291 fue falsamente reconocida como: Shirt\n",
            "La imagen 9298 fue falsamente reconocida como: Shirt\n",
            "La imagen 9398 fue falsamente reconocida como: Shirt\n",
            "La imagen 9438 fue falsamente reconocida como: Dress\n",
            "La imagen 9502 fue falsamente reconocida como: Dress\n",
            "La imagen 9571 fue falsamente reconocida como: Shirt\n",
            "La imagen 9662 fue falsamente reconocida como: Shirt\n",
            "La imagen 9748 fue falsamente reconocida como: Shirt\n",
            "La imagen 9791 fue falsamente reconocida como: Shirt\n",
            "La imagen 9880 fue falsamente reconocida como: Dress\n",
            "La imagen 9928 fue falsamente reconocida como: Pullover\n",
            "La imagen 9945 fue falsamente reconocida como: Dress\n",
            "La imagen 9981 fue falsamente reconocida como: Shirt\n",
            "Fin de la lista de los que debían ser: T-shirt/top\n",
            "\n",
            "Mostrando la lista de los que debían ser: Trouser\n",
            "La imagen 192 fue falsamente reconocida como: Dress\n",
            "La imagen 787 fue falsamente reconocida como: Dress\n",
            "La imagen 1082 fue falsamente reconocida como: Dress\n",
            "La imagen 1482 fue falsamente reconocida como: Dress\n",
            "La imagen 1955 fue falsamente reconocida como: Dress\n",
            "La imagen 2111 fue falsamente reconocida como: Dress\n",
            "La imagen 2741 fue falsamente reconocida como: Dress\n",
            "La imagen 2951 fue falsamente reconocida como: Dress\n",
            "La imagen 3974 fue falsamente reconocida como: Dress\n",
            "La imagen 4392 fue falsamente reconocida como: Coat\n",
            "La imagen 5533 fue falsamente reconocida como: Dress\n",
            "La imagen 5655 fue falsamente reconocida como: Coat\n",
            "La imagen 5760 fue falsamente reconocida como: Pullover\n",
            "La imagen 6117 fue falsamente reconocida como: Dress\n",
            "La imagen 6331 fue falsamente reconocida como: Bag\n",
            "La imagen 6376 fue falsamente reconocida como: Dress\n",
            "La imagen 7555 fue falsamente reconocida como: Dress\n",
            "La imagen 7876 fue falsamente reconocida como: Coat\n",
            "La imagen 8074 fue falsamente reconocida como: T-shirt/top\n",
            "La imagen 8156 fue falsamente reconocida como: Shirt\n",
            "La imagen 8768 fue falsamente reconocida como: Dress\n",
            "La imagen 9071 fue falsamente reconocida como: Coat\n",
            "La imagen 9095 fue falsamente reconocida como: Dress\n",
            "La imagen 9244 fue falsamente reconocida como: Dress\n",
            "La imagen 9666 fue falsamente reconocida como: Dress\n",
            "Fin de la lista de los que debían ser: Trouser\n",
            "\n",
            "Mostrando la lista de los que debían ser: Pullover\n",
            "La imagen 48 fue falsamente reconocida como: Shirt\n",
            "La imagen 74 fue falsamente reconocida como: Coat\n",
            "La imagen 103 fue falsamente reconocida como: Shirt\n",
            "La imagen 136 fue falsamente reconocida como: Shirt\n",
            "La imagen 248 fue falsamente reconocida como: Shirt\n",
            "La imagen 255 fue falsamente reconocida como: Coat\n",
            "La imagen 361 fue falsamente reconocida como: Shirt\n",
            "La imagen 368 fue falsamente reconocida como: Shirt\n",
            "La imagen 382 fue falsamente reconocida como: T-shirt/top\n",
            "La imagen 394 fue falsamente reconocida como: Shirt\n",
            "La imagen 413 fue falsamente reconocida como: Dress\n",
            "La imagen 457 fue falsamente reconocida como: Coat\n",
            "La imagen 511 fue falsamente reconocida como: Coat\n",
            "La imagen 600 fue falsamente reconocida como: Shirt\n",
            "La imagen 732 fue falsamente reconocida como: T-shirt/top\n",
            "La imagen 760 fue falsamente reconocida como: Shirt\n",
            "La imagen 851 fue falsamente reconocida como: Coat\n",
            "La imagen 870 fue falsamente reconocida como: Shirt\n",
            "La imagen 893 fue falsamente reconocida como: Coat\n",
            "La imagen 1254 fue falsamente reconocida como: Dress\n",
            "La imagen 1280 fue falsamente reconocida como: Coat\n",
            "La imagen 1339 fue falsamente reconocida como: Dress\n",
            "La imagen 1387 fue falsamente reconocida como: Shirt\n",
            "La imagen 1425 fue falsamente reconocida como: Shirt\n",
            "La imagen 1509 fue falsamente reconocida como: T-shirt/top\n",
            "La imagen 1527 fue falsamente reconocida como: T-shirt/top\n",
            "La imagen 1533 fue falsamente reconocida como: T-shirt/top\n",
            "La imagen 1624 fue falsamente reconocida como: Shirt\n",
            "La imagen 1640 fue falsamente reconocida como: Shirt\n",
            "La imagen 1743 fue falsamente reconocida como: Coat\n",
            "La imagen 1763 fue falsamente reconocida como: Shirt\n",
            "La imagen 1878 fue falsamente reconocida como: Shirt\n",
            "La imagen 2001 fue falsamente reconocida como: Dress\n",
            "La imagen 2064 fue falsamente reconocida como: Shirt\n",
            "La imagen 2106 fue falsamente reconocida como: Trouser\n",
            "La imagen 2272 fue falsamente reconocida como: Shirt\n",
            "La imagen 2278 fue falsamente reconocida como: Coat\n",
            "La imagen 2337 fue falsamente reconocida como: Coat\n",
            "La imagen 2382 fue falsamente reconocida como: Coat\n",
            "La imagen 2503 fue falsamente reconocida como: Shirt\n",
            "La imagen 2548 fue falsamente reconocida como: Shirt\n",
            "La imagen 2593 fue falsamente reconocida como: Shirt\n",
            "La imagen 2615 fue falsamente reconocida como: Shirt\n",
            "La imagen 2920 fue falsamente reconocida como: Coat\n",
            "La imagen 2960 fue falsamente reconocida como: Shirt\n",
            "La imagen 3040 fue falsamente reconocida como: Coat\n",
            "La imagen 3041 fue falsamente reconocida como: Coat\n",
            "La imagen 3187 fue falsamente reconocida como: T-shirt/top\n",
            "La imagen 3240 fue falsamente reconocida como: Shirt\n",
            "La imagen 3258 fue falsamente reconocida como: Dress\n",
            "La imagen 3284 fue falsamente reconocida como: Shirt\n",
            "La imagen 3297 fue falsamente reconocida como: Coat\n",
            "La imagen 3370 fue falsamente reconocida como: Coat\n",
            "La imagen 3457 fue falsamente reconocida como: Dress\n",
            "La imagen 3489 fue falsamente reconocida como: Dress\n",
            "La imagen 3496 fue falsamente reconocida como: Coat\n",
            "La imagen 3532 fue falsamente reconocida como: Shirt\n",
            "La imagen 3553 fue falsamente reconocida como: T-shirt/top\n",
            "La imagen 3554 fue falsamente reconocida como: Dress\n",
            "La imagen 3585 fue falsamente reconocida como: Shirt\n",
            "La imagen 3673 fue falsamente reconocida como: T-shirt/top\n",
            "La imagen 3816 fue falsamente reconocida como: Coat\n",
            "La imagen 3871 fue falsamente reconocida como: Coat\n",
            "La imagen 3880 fue falsamente reconocida como: Dress\n",
            "La imagen 3939 fue falsamente reconocida como: Shirt\n",
            "La imagen 4041 fue falsamente reconocida como: Dress\n",
            "La imagen 4104 fue falsamente reconocida como: Dress\n",
            "La imagen 4138 fue falsamente reconocida como: Shirt\n",
            "La imagen 4159 fue falsamente reconocida como: T-shirt/top\n",
            "La imagen 4217 fue falsamente reconocida como: Coat\n",
            "La imagen 4245 fue falsamente reconocida como: Shirt\n",
            "La imagen 4378 fue falsamente reconocida como: Coat\n",
            "La imagen 4495 fue falsamente reconocida como: T-shirt/top\n",
            "La imagen 4629 fue falsamente reconocida como: Coat\n",
            "La imagen 4685 fue falsamente reconocida como: Shirt\n",
            "La imagen 4694 fue falsamente reconocida como: Coat\n",
            "La imagen 4823 fue falsamente reconocida como: Coat\n",
            "La imagen 4828 fue falsamente reconocida como: Shirt\n",
            "La imagen 4878 fue falsamente reconocida como: Coat\n",
            "La imagen 5284 fue falsamente reconocida como: Shirt\n",
            "La imagen 5468 fue falsamente reconocida como: T-shirt/top\n",
            "La imagen 5471 fue falsamente reconocida como: Coat\n",
            "La imagen 5474 fue falsamente reconocida como: Coat\n",
            "La imagen 5568 fue falsamente reconocida como: Coat\n",
            "La imagen 5701 fue falsamente reconocida como: T-shirt/top\n",
            "La imagen 5713 fue falsamente reconocida como: T-shirt/top\n",
            "La imagen 5719 fue falsamente reconocida como: Shirt\n",
            "La imagen 5734 fue falsamente reconocida como: Shirt\n",
            "La imagen 5820 fue falsamente reconocida como: T-shirt/top\n",
            "La imagen 5853 fue falsamente reconocida como: Shirt\n",
            "La imagen 5974 fue falsamente reconocida como: Shirt\n",
            "La imagen 6099 fue falsamente reconocida como: Sandal\n",
            "La imagen 6201 fue falsamente reconocida como: Shirt\n",
            "La imagen 6474 fue falsamente reconocida como: Dress\n",
            "La imagen 6564 fue falsamente reconocida como: Shirt\n",
            "La imagen 6721 fue falsamente reconocida como: T-shirt/top\n",
            "La imagen 6774 fue falsamente reconocida como: Coat\n",
            "La imagen 6826 fue falsamente reconocida como: Shirt\n",
            "La imagen 6866 fue falsamente reconocida como: Shirt\n",
            "La imagen 6874 fue falsamente reconocida como: Shirt\n",
            "La imagen 6990 fue falsamente reconocida como: Shirt\n",
            "La imagen 7049 fue falsamente reconocida como: Coat\n",
            "La imagen 7177 fue falsamente reconocida como: Dress\n",
            "La imagen 7299 fue falsamente reconocida como: Coat\n",
            "La imagen 7369 fue falsamente reconocida como: T-shirt/top\n",
            "La imagen 7442 fue falsamente reconocida como: Coat\n",
            "La imagen 7647 fue falsamente reconocida como: Coat\n",
            "La imagen 7976 fue falsamente reconocida como: Coat\n",
            "La imagen 7998 fue falsamente reconocida como: T-shirt/top\n",
            "La imagen 8122 fue falsamente reconocida como: Shirt\n",
            "La imagen 8436 fue falsamente reconocida como: Coat\n",
            "La imagen 8530 fue falsamente reconocida como: Shirt\n",
            "La imagen 8598 fue falsamente reconocida como: T-shirt/top\n",
            "La imagen 8618 fue falsamente reconocida como: Shirt\n",
            "La imagen 8669 fue falsamente reconocida como: T-shirt/top\n",
            "La imagen 8877 fue falsamente reconocida como: T-shirt/top\n",
            "La imagen 8879 fue falsamente reconocida como: Coat\n",
            "La imagen 8914 fue falsamente reconocida como: Shirt\n",
            "La imagen 8950 fue falsamente reconocida como: Shirt\n",
            "La imagen 9256 fue falsamente reconocida como: Coat\n",
            "La imagen 9276 fue falsamente reconocida como: Coat\n",
            "La imagen 9389 fue falsamente reconocida como: Shirt\n",
            "La imagen 9449 fue falsamente reconocida como: Shirt\n",
            "La imagen 9531 fue falsamente reconocida como: Shirt\n",
            "La imagen 9574 fue falsamente reconocida como: Shirt\n",
            "La imagen 9604 fue falsamente reconocida como: Shirt\n",
            "La imagen 9648 fue falsamente reconocida como: Coat\n",
            "La imagen 9852 fue falsamente reconocida como: Shirt\n",
            "La imagen 9875 fue falsamente reconocida como: Shirt\n",
            "La imagen 9972 fue falsamente reconocida como: T-shirt/top\n",
            "Fin de la lista de los que debían ser: Pullover\n",
            "\n",
            "Mostrando la lista de los que debían ser: Dress\n",
            "La imagen 42 fue falsamente reconocida como: Shirt\n",
            "La imagen 67 fue falsamente reconocida como: Coat\n",
            "La imagen 271 fue falsamente reconocida como: Shirt\n",
            "La imagen 283 fue falsamente reconocida como: Coat\n",
            "La imagen 460 fue falsamente reconocida como: Shirt\n",
            "La imagen 569 fue falsamente reconocida como: Shirt\n",
            "La imagen 688 fue falsamente reconocida como: Shirt\n",
            "La imagen 699 fue falsamente reconocida como: Shirt\n",
            "La imagen 960 fue falsamente reconocida como: Bag\n",
            "La imagen 979 fue falsamente reconocida como: T-shirt/top\n",
            "La imagen 1326 fue falsamente reconocida como: Shirt\n",
            "La imagen 1336 fue falsamente reconocida como: Shirt\n",
            "La imagen 1665 fue falsamente reconocida como: Shirt\n",
            "La imagen 1930 fue falsamente reconocida como: Coat\n",
            "La imagen 1968 fue falsamente reconocida como: Shirt\n",
            "La imagen 2245 fue falsamente reconocida como: Coat\n",
            "La imagen 2318 fue falsamente reconocida como: Pullover\n",
            "La imagen 2507 fue falsamente reconocida como: Coat\n",
            "La imagen 2695 fue falsamente reconocida como: Shirt\n",
            "La imagen 2721 fue falsamente reconocida como: Shirt\n",
            "La imagen 2760 fue falsamente reconocida como: Trouser\n",
            "La imagen 2817 fue falsamente reconocida como: Pullover\n",
            "La imagen 2898 fue falsamente reconocida como: Coat\n",
            "La imagen 3019 fue falsamente reconocida como: Pullover\n",
            "La imagen 3194 fue falsamente reconocida como: Trouser\n",
            "La imagen 3209 fue falsamente reconocida como: Pullover\n",
            "La imagen 3322 fue falsamente reconocida como: T-shirt/top\n",
            "La imagen 3436 fue falsamente reconocida como: Shirt\n",
            "La imagen 3476 fue falsamente reconocida como: Shirt\n",
            "La imagen 3706 fue falsamente reconocida como: T-shirt/top\n",
            "La imagen 3805 fue falsamente reconocida como: Shirt\n",
            "La imagen 4148 fue falsamente reconocida como: Shirt\n",
            "La imagen 4394 fue falsamente reconocida como: Bag\n",
            "La imagen 4733 fue falsamente reconocida como: Shirt\n",
            "La imagen 4934 fue falsamente reconocida como: Pullover\n",
            "La imagen 5204 fue falsamente reconocida como: Shirt\n",
            "La imagen 5575 fue falsamente reconocida como: Pullover\n",
            "La imagen 5592 fue falsamente reconocida como: Pullover\n",
            "La imagen 6433 fue falsamente reconocida como: T-shirt/top\n",
            "La imagen 6526 fue falsamente reconocida como: Coat\n",
            "La imagen 6584 fue falsamente reconocida como: Coat\n",
            "La imagen 6676 fue falsamente reconocida como: Bag\n",
            "La imagen 6689 fue falsamente reconocida como: T-shirt/top\n",
            "La imagen 7638 fue falsamente reconocida como: Pullover\n",
            "La imagen 7646 fue falsamente reconocida como: Coat\n",
            "La imagen 7948 fue falsamente reconocida como: Coat\n",
            "La imagen 8111 fue falsamente reconocida como: Shirt\n",
            "La imagen 8341 fue falsamente reconocida como: Pullover\n",
            "La imagen 8591 fue falsamente reconocida como: Shirt\n",
            "La imagen 8646 fue falsamente reconocida como: Coat\n",
            "La imagen 8764 fue falsamente reconocida como: Shirt\n",
            "La imagen 9059 fue falsamente reconocida como: Shirt\n",
            "La imagen 9165 fue falsamente reconocida como: Shirt\n",
            "La imagen 9235 fue falsamente reconocida como: Coat\n",
            "Fin de la lista de los que debían ser: Dress\n",
            "\n",
            "Mostrando la lista de los que debían ser: Coat\n",
            "La imagen 98 fue falsamente reconocida como: Pullover\n",
            "La imagen 150 fue falsamente reconocida como: Dress\n",
            "La imagen 153 fue falsamente reconocida como: Dress\n",
            "La imagen 247 fue falsamente reconocida como: Pullover\n",
            "La imagen 324 fue falsamente reconocida como: Shirt\n",
            "La imagen 378 fue falsamente reconocida como: Dress\n",
            "La imagen 404 fue falsamente reconocida como: Dress\n",
            "La imagen 491 fue falsamente reconocida como: Shirt\n",
            "La imagen 594 fue falsamente reconocida como: Dress\n",
            "La imagen 639 fue falsamente reconocida como: Pullover\n",
            "La imagen 665 fue falsamente reconocida como: Pullover\n",
            "La imagen 685 fue falsamente reconocida como: Dress\n",
            "La imagen 702 fue falsamente reconocida como: Pullover\n",
            "La imagen 762 fue falsamente reconocida como: Pullover\n",
            "La imagen 801 fue falsamente reconocida como: Pullover\n",
            "La imagen 805 fue falsamente reconocida como: Pullover\n",
            "La imagen 905 fue falsamente reconocida como: Shirt\n",
            "La imagen 935 fue falsamente reconocida como: Shirt\n",
            "La imagen 939 fue falsamente reconocida como: Dress\n",
            "La imagen 994 fue falsamente reconocida como: Shirt\n",
            "La imagen 1055 fue falsamente reconocida como: Shirt\n",
            "La imagen 1064 fue falsamente reconocida como: Dress\n",
            "La imagen 1101 fue falsamente reconocida como: Shirt\n",
            "La imagen 1104 fue falsamente reconocida como: Shirt\n",
            "La imagen 1113 fue falsamente reconocida como: Dress\n",
            "La imagen 1142 fue falsamente reconocida como: T-shirt/top\n",
            "La imagen 1160 fue falsamente reconocida como: Dress\n",
            "La imagen 1223 fue falsamente reconocida como: Shirt\n",
            "La imagen 1251 fue falsamente reconocida como: Dress\n",
            "La imagen 1329 fue falsamente reconocida como: Pullover\n",
            "La imagen 1342 fue falsamente reconocida como: Pullover\n",
            "La imagen 1408 fue falsamente reconocida como: Shirt\n",
            "La imagen 1462 fue falsamente reconocida como: Shirt\n",
            "La imagen 1587 fue falsamente reconocida como: Dress\n",
            "La imagen 1644 fue falsamente reconocida como: Pullover\n",
            "La imagen 1674 fue falsamente reconocida como: Dress\n",
            "La imagen 1803 fue falsamente reconocida como: Pullover\n",
            "La imagen 1814 fue falsamente reconocida como: Dress\n",
            "La imagen 1895 fue falsamente reconocida como: Shirt\n",
            "La imagen 2042 fue falsamente reconocida como: Shirt\n",
            "La imagen 2062 fue falsamente reconocida como: Dress\n",
            "La imagen 2067 fue falsamente reconocida como: Pullover\n",
            "La imagen 2073 fue falsamente reconocida como: Dress\n",
            "La imagen 2189 fue falsamente reconocida como: Shirt\n",
            "La imagen 2421 fue falsamente reconocida como: Pullover\n",
            "La imagen 2442 fue falsamente reconocida como: Shirt\n",
            "La imagen 2462 fue falsamente reconocida como: Shirt\n",
            "La imagen 2487 fue falsamente reconocida como: Pullover\n",
            "La imagen 2509 fue falsamente reconocida como: Pullover\n",
            "La imagen 2626 fue falsamente reconocida como: Shirt\n",
            "La imagen 2681 fue falsamente reconocida como: Shirt\n",
            "La imagen 2684 fue falsamente reconocida como: Shirt\n",
            "La imagen 2698 fue falsamente reconocida como: Dress\n",
            "La imagen 2776 fue falsamente reconocida como: Pullover\n",
            "La imagen 2779 fue falsamente reconocida como: Dress\n",
            "La imagen 2848 fue falsamente reconocida como: Shirt\n",
            "La imagen 2884 fue falsamente reconocida como: Shirt\n",
            "La imagen 2919 fue falsamente reconocida como: Shirt\n",
            "La imagen 3058 fue falsamente reconocida como: Pullover\n",
            "La imagen 3084 fue falsamente reconocida como: Dress\n",
            "La imagen 3103 fue falsamente reconocida como: Dress\n",
            "La imagen 3176 fue falsamente reconocida como: Shirt\n",
            "La imagen 3220 fue falsamente reconocida como: Dress\n",
            "La imagen 3229 fue falsamente reconocida como: Shirt\n",
            "La imagen 3568 fue falsamente reconocida como: Shirt\n",
            "La imagen 3626 fue falsamente reconocida como: Dress\n",
            "La imagen 3639 fue falsamente reconocida como: Dress\n",
            "La imagen 3730 fue falsamente reconocida como: Dress\n",
            "La imagen 3731 fue falsamente reconocida como: Pullover\n",
            "La imagen 3804 fue falsamente reconocida como: Dress\n",
            "La imagen 3809 fue falsamente reconocida como: Pullover\n",
            "La imagen 3811 fue falsamente reconocida como: Dress\n",
            "La imagen 3983 fue falsamente reconocida como: Dress\n",
            "La imagen 4012 fue falsamente reconocida como: Pullover\n",
            "La imagen 4025 fue falsamente reconocida como: Pullover\n",
            "La imagen 4131 fue falsamente reconocida como: Pullover\n",
            "La imagen 4166 fue falsamente reconocida como: Pullover\n",
            "La imagen 4233 fue falsamente reconocida como: Pullover\n",
            "La imagen 4251 fue falsamente reconocida como: T-shirt/top\n",
            "La imagen 4266 fue falsamente reconocida como: Dress\n",
            "La imagen 4272 fue falsamente reconocida como: Pullover\n",
            "La imagen 4422 fue falsamente reconocida como: Shirt\n",
            "La imagen 4526 fue falsamente reconocida como: Shirt\n",
            "La imagen 4559 fue falsamente reconocida como: Shirt\n",
            "La imagen 4639 fue falsamente reconocida como: Shirt\n",
            "La imagen 4775 fue falsamente reconocida como: Shirt\n",
            "La imagen 4798 fue falsamente reconocida como: Dress\n",
            "La imagen 4880 fue falsamente reconocida como: Pullover\n",
            "La imagen 4922 fue falsamente reconocida como: Dress\n",
            "La imagen 4995 fue falsamente reconocida como: Pullover\n",
            "La imagen 5036 fue falsamente reconocida como: Dress\n",
            "La imagen 5070 fue falsamente reconocida como: Dress\n",
            "La imagen 5133 fue falsamente reconocida como: Shirt\n",
            "La imagen 5167 fue falsamente reconocida como: Pullover\n",
            "La imagen 5173 fue falsamente reconocida como: Pullover\n",
            "La imagen 5255 fue falsamente reconocida como: Pullover\n",
            "La imagen 5336 fue falsamente reconocida como: Pullover\n",
            "La imagen 5381 fue falsamente reconocida como: Pullover\n",
            "La imagen 5382 fue falsamente reconocida como: Shirt\n",
            "La imagen 5429 fue falsamente reconocida como: Shirt\n",
            "La imagen 5441 fue falsamente reconocida como: Pullover\n",
            "La imagen 5464 fue falsamente reconocida como: Pullover\n",
            "La imagen 5511 fue falsamente reconocida como: Shirt\n",
            "La imagen 5604 fue falsamente reconocida como: Dress\n",
            "La imagen 5686 fue falsamente reconocida como: Pullover\n",
            "La imagen 5721 fue falsamente reconocida como: Shirt\n",
            "La imagen 5791 fue falsamente reconocida como: Pullover\n",
            "La imagen 5803 fue falsamente reconocida como: Pullover\n",
            "La imagen 5881 fue falsamente reconocida como: Shirt\n",
            "La imagen 5993 fue falsamente reconocida como: Shirt\n",
            "La imagen 6103 fue falsamente reconocida como: Shirt\n",
            "La imagen 6148 fue falsamente reconocida como: Shirt\n",
            "La imagen 6162 fue falsamente reconocida como: Shirt\n",
            "La imagen 6400 fue falsamente reconocida como: Pullover\n",
            "La imagen 6418 fue falsamente reconocida como: Shirt\n",
            "La imagen 6420 fue falsamente reconocida como: Dress\n",
            "La imagen 6464 fue falsamente reconocida como: Dress\n",
            "La imagen 6513 fue falsamente reconocida como: Pullover\n",
            "La imagen 6559 fue falsamente reconocida como: Shirt\n",
            "La imagen 6709 fue falsamente reconocida como: Shirt\n",
            "La imagen 6751 fue falsamente reconocida como: Pullover\n",
            "La imagen 6855 fue falsamente reconocida como: Pullover\n",
            "La imagen 6908 fue falsamente reconocida como: Shirt\n",
            "La imagen 6993 fue falsamente reconocida como: Shirt\n",
            "La imagen 7068 fue falsamente reconocida como: Pullover\n",
            "La imagen 7070 fue falsamente reconocida como: Shirt\n",
            "La imagen 7210 fue falsamente reconocida como: Pullover\n",
            "La imagen 7228 fue falsamente reconocida como: Shirt\n",
            "La imagen 7233 fue falsamente reconocida como: Shirt\n",
            "La imagen 7278 fue falsamente reconocida como: Shirt\n",
            "La imagen 7518 fue falsamente reconocida como: Pullover\n",
            "La imagen 7535 fue falsamente reconocida como: Shirt\n",
            "La imagen 7545 fue falsamente reconocida como: Shirt\n",
            "La imagen 7571 fue falsamente reconocida como: Dress\n",
            "La imagen 7596 fue falsamente reconocida como: Shirt\n",
            "La imagen 7752 fue falsamente reconocida como: Shirt\n",
            "La imagen 7915 fue falsamente reconocida como: Dress\n",
            "La imagen 7986 fue falsamente reconocida como: Dress\n",
            "La imagen 8039 fue falsamente reconocida como: Dress\n",
            "La imagen 8085 fue falsamente reconocida como: Pullover\n",
            "La imagen 8140 fue falsamente reconocida como: Pullover\n",
            "La imagen 8154 fue falsamente reconocida como: Pullover\n",
            "La imagen 8457 fue falsamente reconocida como: Shirt\n",
            "La imagen 8470 fue falsamente reconocida como: Pullover\n",
            "La imagen 8556 fue falsamente reconocida como: Dress\n",
            "La imagen 8569 fue falsamente reconocida como: Shirt\n",
            "La imagen 8799 fue falsamente reconocida como: Shirt\n",
            "La imagen 8804 fue falsamente reconocida como: Pullover\n",
            "La imagen 8891 fue falsamente reconocida como: Pullover\n",
            "La imagen 8916 fue falsamente reconocida como: Pullover\n",
            "La imagen 8920 fue falsamente reconocida como: Dress\n",
            "La imagen 8958 fue falsamente reconocida como: Shirt\n",
            "La imagen 9050 fue falsamente reconocida como: Dress\n",
            "La imagen 9062 fue falsamente reconocida como: Pullover\n",
            "La imagen 9320 fue falsamente reconocida como: Pullover\n",
            "La imagen 9344 fue falsamente reconocida como: Pullover\n",
            "La imagen 9632 fue falsamente reconocida como: Dress\n",
            "La imagen 9645 fue falsamente reconocida como: Pullover\n",
            "La imagen 9701 fue falsamente reconocida como: Shirt\n",
            "La imagen 9724 fue falsamente reconocida como: Dress\n",
            "La imagen 9786 fue falsamente reconocida como: Shirt\n",
            "La imagen 9846 fue falsamente reconocida como: Dress\n",
            "La imagen 9989 fue falsamente reconocida como: Shirt\n",
            "Fin de la lista de los que debían ser: Coat\n",
            "\n",
            "Mostrando la lista de los que debían ser: Sandal\n",
            "La imagen 902 fue falsamente reconocida como: Ankle boot\n",
            "La imagen 1051 fue falsamente reconocida como: Bag\n",
            "La imagen 1617 fue falsamente reconocida como: Sneaker\n",
            "La imagen 1953 fue falsamente reconocida como: Sneaker\n",
            "La imagen 2037 fue falsamente reconocida como: Sneaker\n",
            "La imagen 3215 fue falsamente reconocida como: Sneaker\n",
            "La imagen 4040 fue falsamente reconocida como: Sneaker\n",
            "La imagen 4717 fue falsamente reconocida como: Sneaker\n",
            "La imagen 4742 fue falsamente reconocida como: Ankle boot\n",
            "La imagen 5082 fue falsamente reconocida como: Ankle boot\n",
            "La imagen 5899 fue falsamente reconocida como: Ankle boot\n",
            "La imagen 6061 fue falsamente reconocida como: Ankle boot\n",
            "La imagen 6699 fue falsamente reconocida como: Sneaker\n",
            "La imagen 6718 fue falsamente reconocida como: Sneaker\n",
            "La imagen 7509 fue falsamente reconocida como: Ankle boot\n",
            "La imagen 7768 fue falsamente reconocida como: Sneaker\n",
            "La imagen 7779 fue falsamente reconocida como: Sneaker\n",
            "La imagen 8292 fue falsamente reconocida como: Sneaker\n",
            "La imagen 8463 fue falsamente reconocida como: Sneaker\n",
            "La imagen 8532 fue falsamente reconocida como: Sneaker\n",
            "La imagen 9375 fue falsamente reconocida como: Sneaker\n",
            "Fin de la lista de los que debían ser: Sandal\n",
            "\n",
            "Mostrando la lista de los que debían ser: Shirt\n",
            "La imagen 135 fue falsamente reconocida como: Coat\n",
            "La imagen 147 fue falsamente reconocida como: Dress\n",
            "La imagen 244 fue falsamente reconocida como: Pullover\n",
            "La imagen 325 fue falsamente reconocida como: Pullover\n",
            "La imagen 406 fue falsamente reconocida como: Coat\n",
            "La imagen 444 fue falsamente reconocida como: Coat\n",
            "La imagen 634 fue falsamente reconocida como: Coat\n",
            "La imagen 664 fue falsamente reconocida como: Pullover\n",
            "La imagen 711 fue falsamente reconocida como: Dress\n",
            "La imagen 716 fue falsamente reconocida como: Coat\n",
            "La imagen 724 fue falsamente reconocida como: Pullover\n",
            "La imagen 726 fue falsamente reconocida como: Pullover\n",
            "La imagen 860 fue falsamente reconocida como: Pullover\n",
            "La imagen 909 fue falsamente reconocida como: Pullover\n",
            "La imagen 938 fue falsamente reconocida como: Pullover\n",
            "La imagen 956 fue falsamente reconocida como: Pullover\n",
            "La imagen 977 fue falsamente reconocida como: T-shirt/top\n",
            "La imagen 1025 fue falsamente reconocida como: Coat\n",
            "La imagen 1056 fue falsamente reconocida como: T-shirt/top\n",
            "La imagen 1058 fue falsamente reconocida como: Pullover\n",
            "La imagen 1121 fue falsamente reconocida como: Pullover\n",
            "La imagen 1162 fue falsamente reconocida como: Coat\n",
            "La imagen 1165 fue falsamente reconocida como: Pullover\n",
            "La imagen 1197 fue falsamente reconocida como: Coat\n",
            "La imagen 1277 fue falsamente reconocida como: T-shirt/top\n",
            "La imagen 1469 fue falsamente reconocida como: Pullover\n",
            "La imagen 1487 fue falsamente reconocida como: Pullover\n",
            "La imagen 1620 fue falsamente reconocida como: T-shirt/top\n",
            "La imagen 1643 fue falsamente reconocida como: Coat\n",
            "La imagen 1650 fue falsamente reconocida como: T-shirt/top\n",
            "La imagen 1744 fue falsamente reconocida como: Pullover\n",
            "La imagen 1771 fue falsamente reconocida como: T-shirt/top\n",
            "La imagen 1943 fue falsamente reconocida como: T-shirt/top\n",
            "La imagen 2006 fue falsamente reconocida como: T-shirt/top\n",
            "La imagen 2009 fue falsamente reconocida como: T-shirt/top\n",
            "La imagen 2162 fue falsamente reconocida como: Dress\n",
            "La imagen 2195 fue falsamente reconocida como: Pullover\n",
            "La imagen 2311 fue falsamente reconocida como: Ankle boot\n",
            "La imagen 2351 fue falsamente reconocida como: Pullover\n",
            "La imagen 2352 fue falsamente reconocida como: Pullover\n",
            "La imagen 2397 fue falsamente reconocida como: T-shirt/top\n",
            "La imagen 2425 fue falsamente reconocida como: Coat\n",
            "La imagen 2431 fue falsamente reconocida como: T-shirt/top\n",
            "La imagen 2464 fue falsamente reconocida como: T-shirt/top\n",
            "La imagen 2469 fue falsamente reconocida como: Pullover\n",
            "La imagen 2485 fue falsamente reconocida como: T-shirt/top\n",
            "La imagen 2491 fue falsamente reconocida como: Pullover\n",
            "La imagen 2540 fue falsamente reconocida como: Coat\n",
            "La imagen 2551 fue falsamente reconocida como: Coat\n",
            "La imagen 2580 fue falsamente reconocida como: T-shirt/top\n",
            "La imagen 2629 fue falsamente reconocida como: Dress\n",
            "La imagen 2746 fue falsamente reconocida como: Pullover\n",
            "La imagen 2839 fue falsamente reconocida como: T-shirt/top\n",
            "La imagen 2843 fue falsamente reconocida como: Pullover\n",
            "La imagen 2856 fue falsamente reconocida como: T-shirt/top\n",
            "La imagen 2865 fue falsamente reconocida como: Coat\n",
            "La imagen 2882 fue falsamente reconocida como: Pullover\n",
            "La imagen 2942 fue falsamente reconocida como: Pullover\n",
            "La imagen 2979 fue falsamente reconocida como: Pullover\n",
            "La imagen 2985 fue falsamente reconocida como: Pullover\n",
            "La imagen 2986 fue falsamente reconocida como: T-shirt/top\n",
            "La imagen 3045 fue falsamente reconocida como: Trouser\n",
            "La imagen 3165 fue falsamente reconocida como: Pullover\n",
            "La imagen 3174 fue falsamente reconocida como: Pullover\n",
            "La imagen 3188 fue falsamente reconocida como: Pullover\n",
            "La imagen 3198 fue falsamente reconocida como: Coat\n",
            "La imagen 3203 fue falsamente reconocida como: Pullover\n",
            "La imagen 3232 fue falsamente reconocida como: T-shirt/top\n",
            "La imagen 3262 fue falsamente reconocida como: Coat\n",
            "La imagen 3323 fue falsamente reconocida como: T-shirt/top\n",
            "La imagen 3327 fue falsamente reconocida como: T-shirt/top\n",
            "La imagen 3334 fue falsamente reconocida como: Dress\n",
            "La imagen 3338 fue falsamente reconocida como: Coat\n",
            "La imagen 3401 fue falsamente reconocida como: Pullover\n",
            "La imagen 3416 fue falsamente reconocida como: T-shirt/top\n",
            "La imagen 3488 fue falsamente reconocida como: T-shirt/top\n",
            "La imagen 3491 fue falsamente reconocida como: Pullover\n",
            "La imagen 3613 fue falsamente reconocida como: T-shirt/top\n",
            "La imagen 3625 fue falsamente reconocida como: T-shirt/top\n",
            "La imagen 3658 fue falsamente reconocida como: Coat\n",
            "La imagen 3669 fue falsamente reconocida como: Coat\n",
            "La imagen 3681 fue falsamente reconocida como: T-shirt/top\n",
            "La imagen 3741 fue falsamente reconocida como: Bag\n",
            "La imagen 3787 fue falsamente reconocida como: Pullover\n",
            "La imagen 3800 fue falsamente reconocida como: Pullover\n",
            "La imagen 3829 fue falsamente reconocida como: Dress\n",
            "La imagen 3830 fue falsamente reconocida como: Dress\n",
            "La imagen 3861 fue falsamente reconocida como: Coat\n",
            "La imagen 3864 fue falsamente reconocida como: Pullover\n",
            "La imagen 3987 fue falsamente reconocida como: Coat\n",
            "La imagen 4019 fue falsamente reconocida como: Dress\n",
            "La imagen 4079 fue falsamente reconocida como: Coat\n",
            "La imagen 4106 fue falsamente reconocida como: Pullover\n",
            "La imagen 4109 fue falsamente reconocida como: T-shirt/top\n",
            "La imagen 4127 fue falsamente reconocida como: T-shirt/top\n",
            "La imagen 4142 fue falsamente reconocida como: Pullover\n",
            "La imagen 4153 fue falsamente reconocida como: T-shirt/top\n",
            "La imagen 4192 fue falsamente reconocida como: T-shirt/top\n",
            "La imagen 4194 fue falsamente reconocida como: T-shirt/top\n",
            "La imagen 4231 fue falsamente reconocida como: T-shirt/top\n",
            "La imagen 4237 fue falsamente reconocida como: Coat\n",
            "La imagen 4250 fue falsamente reconocida como: T-shirt/top\n",
            "La imagen 4267 fue falsamente reconocida como: Pullover\n",
            "La imagen 4280 fue falsamente reconocida como: T-shirt/top\n",
            "La imagen 4337 fue falsamente reconocida como: Pullover\n",
            "La imagen 4429 fue falsamente reconocida como: Coat\n",
            "La imagen 4451 fue falsamente reconocida como: Dress\n",
            "La imagen 4505 fue falsamente reconocida como: T-shirt/top\n",
            "La imagen 4509 fue falsamente reconocida como: Dress\n",
            "La imagen 4542 fue falsamente reconocida como: Dress\n",
            "La imagen 4569 fue falsamente reconocida como: Dress\n",
            "La imagen 4672 fue falsamente reconocida como: Pullover\n",
            "La imagen 4692 fue falsamente reconocida como: T-shirt/top\n",
            "La imagen 4727 fue falsamente reconocida como: T-shirt/top\n",
            "La imagen 4784 fue falsamente reconocida como: T-shirt/top\n",
            "La imagen 4803 fue falsamente reconocida como: T-shirt/top\n",
            "La imagen 4842 fue falsamente reconocida como: T-shirt/top\n",
            "La imagen 4886 fue falsamente reconocida como: T-shirt/top\n",
            "La imagen 4893 fue falsamente reconocida como: T-shirt/top\n",
            "La imagen 4916 fue falsamente reconocida como: T-shirt/top\n",
            "La imagen 4979 fue falsamente reconocida como: Coat\n",
            "La imagen 5004 fue falsamente reconocida como: Coat\n",
            "La imagen 5006 fue falsamente reconocida como: Dress\n",
            "La imagen 5040 fue falsamente reconocida como: Pullover\n",
            "La imagen 5065 fue falsamente reconocida como: Bag\n",
            "La imagen 5155 fue falsamente reconocida como: Pullover\n",
            "La imagen 5186 fue falsamente reconocida como: T-shirt/top\n",
            "La imagen 5197 fue falsamente reconocida como: Coat\n",
            "La imagen 5248 fue falsamente reconocida como: Dress\n",
            "La imagen 5249 fue falsamente reconocida como: Dress\n",
            "La imagen 5260 fue falsamente reconocida como: Pullover\n",
            "La imagen 5424 fue falsamente reconocida como: Dress\n",
            "La imagen 5442 fue falsamente reconocida como: T-shirt/top\n",
            "La imagen 5497 fue falsamente reconocida como: Coat\n",
            "La imagen 5522 fue falsamente reconocida como: T-shirt/top\n",
            "La imagen 5566 fue falsamente reconocida como: T-shirt/top\n",
            "La imagen 5569 fue falsamente reconocida como: Dress\n",
            "La imagen 5594 fue falsamente reconocida como: Pullover\n",
            "La imagen 5648 fue falsamente reconocida como: Pullover\n",
            "La imagen 5695 fue falsamente reconocida como: T-shirt/top\n",
            "La imagen 5806 fue falsamente reconocida como: T-shirt/top\n",
            "La imagen 5826 fue falsamente reconocida como: Coat\n",
            "La imagen 5885 fue falsamente reconocida como: Coat\n",
            "La imagen 5987 fue falsamente reconocida como: Dress\n",
            "La imagen 6008 fue falsamente reconocida como: T-shirt/top\n",
            "La imagen 6024 fue falsamente reconocida como: T-shirt/top\n",
            "La imagen 6096 fue falsamente reconocida como: Pullover\n",
            "La imagen 6127 fue falsamente reconocida como: Pullover\n",
            "La imagen 6159 fue falsamente reconocida como: T-shirt/top\n",
            "La imagen 6169 fue falsamente reconocida como: T-shirt/top\n",
            "La imagen 6248 fue falsamente reconocida como: Dress\n",
            "La imagen 6254 fue falsamente reconocida como: Coat\n",
            "La imagen 6258 fue falsamente reconocida como: T-shirt/top\n",
            "La imagen 6329 fue falsamente reconocida como: Pullover\n",
            "La imagen 6344 fue falsamente reconocida como: T-shirt/top\n",
            "La imagen 6379 fue falsamente reconocida como: Coat\n",
            "La imagen 6407 fue falsamente reconocida como: Coat\n",
            "La imagen 6444 fue falsamente reconocida como: T-shirt/top\n",
            "La imagen 6452 fue falsamente reconocida como: Pullover\n",
            "La imagen 6514 fue falsamente reconocida como: Pullover\n",
            "La imagen 6531 fue falsamente reconocida como: Coat\n",
            "La imagen 6539 fue falsamente reconocida como: Pullover\n",
            "La imagen 6558 fue falsamente reconocida como: T-shirt/top\n",
            "La imagen 6566 fue falsamente reconocida como: T-shirt/top\n",
            "La imagen 6667 fue falsamente reconocida como: Coat\n",
            "La imagen 6797 fue falsamente reconocida como: T-shirt/top\n",
            "La imagen 6809 fue falsamente reconocida como: Pullover\n",
            "La imagen 6844 fue falsamente reconocida como: Pullover\n",
            "La imagen 6861 fue falsamente reconocida como: Pullover\n",
            "La imagen 6928 fue falsamente reconocida como: Coat\n",
            "La imagen 6958 fue falsamente reconocida como: T-shirt/top\n",
            "La imagen 7004 fue falsamente reconocida como: Coat\n",
            "La imagen 7042 fue falsamente reconocida como: Pullover\n",
            "La imagen 7130 fue falsamente reconocida como: Coat\n",
            "La imagen 7167 fue falsamente reconocida como: Dress\n",
            "La imagen 7188 fue falsamente reconocida como: Coat\n",
            "La imagen 7189 fue falsamente reconocida como: T-shirt/top\n",
            "La imagen 7195 fue falsamente reconocida como: T-shirt/top\n",
            "La imagen 7258 fue falsamente reconocida como: Coat\n",
            "La imagen 7334 fue falsamente reconocida como: T-shirt/top\n",
            "La imagen 7507 fue falsamente reconocida como: T-shirt/top\n",
            "La imagen 7527 fue falsamente reconocida como: Coat\n",
            "La imagen 7654 fue falsamente reconocida como: Coat\n",
            "La imagen 7719 fue falsamente reconocida como: T-shirt/top\n",
            "La imagen 7778 fue falsamente reconocida como: T-shirt/top\n",
            "La imagen 7800 fue falsamente reconocida como: Pullover\n",
            "La imagen 7924 fue falsamente reconocida como: T-shirt/top\n",
            "La imagen 7941 fue falsamente reconocida como: T-shirt/top\n",
            "La imagen 7992 fue falsamente reconocida como: Coat\n",
            "La imagen 8005 fue falsamente reconocida como: T-shirt/top\n",
            "La imagen 8035 fue falsamente reconocida como: Pullover\n",
            "La imagen 8150 fue falsamente reconocida como: T-shirt/top\n",
            "La imagen 8373 fue falsamente reconocida como: Pullover\n",
            "La imagen 8429 fue falsamente reconocida como: Dress\n",
            "La imagen 8490 fue falsamente reconocida como: Coat\n",
            "La imagen 8538 fue falsamente reconocida como: T-shirt/top\n",
            "La imagen 8617 fue falsamente reconocida como: T-shirt/top\n",
            "La imagen 8658 fue falsamente reconocida como: Dress\n",
            "La imagen 8664 fue falsamente reconocida como: T-shirt/top\n",
            "La imagen 8705 fue falsamente reconocida como: Dress\n",
            "La imagen 8706 fue falsamente reconocida como: Pullover\n",
            "La imagen 8728 fue falsamente reconocida como: T-shirt/top\n",
            "La imagen 8745 fue falsamente reconocida como: T-shirt/top\n",
            "La imagen 8939 fue falsamente reconocida como: T-shirt/top\n",
            "La imagen 8946 fue falsamente reconocida como: Coat\n",
            "La imagen 8997 fue falsamente reconocida como: T-shirt/top\n",
            "La imagen 9032 fue falsamente reconocida como: Pullover\n",
            "La imagen 9033 fue falsamente reconocida como: Pullover\n",
            "La imagen 9057 fue falsamente reconocida como: Pullover\n",
            "La imagen 9094 fue falsamente reconocida como: T-shirt/top\n",
            "La imagen 9122 fue falsamente reconocida como: T-shirt/top\n",
            "La imagen 9133 fue falsamente reconocida como: T-shirt/top\n",
            "La imagen 9140 fue falsamente reconocida como: T-shirt/top\n",
            "La imagen 9157 fue falsamente reconocida como: Dress\n",
            "La imagen 9199 fue falsamente reconocida como: T-shirt/top\n",
            "La imagen 9211 fue falsamente reconocida como: Dress\n",
            "La imagen 9218 fue falsamente reconocida como: Pullover\n",
            "La imagen 9247 fue falsamente reconocida como: Pullover\n",
            "La imagen 9306 fue falsamente reconocida como: Dress\n",
            "La imagen 9445 fue falsamente reconocida como: Bag\n",
            "La imagen 9487 fue falsamente reconocida como: Coat\n",
            "La imagen 9499 fue falsamente reconocida como: Dress\n",
            "La imagen 9601 fue falsamente reconocida como: Dress\n",
            "La imagen 9627 fue falsamente reconocida como: Pullover\n",
            "La imagen 9684 fue falsamente reconocida como: Coat\n",
            "La imagen 9687 fue falsamente reconocida como: Pullover\n",
            "La imagen 9690 fue falsamente reconocida como: Pullover\n",
            "La imagen 9692 fue falsamente reconocida como: Dress\n",
            "La imagen 9714 fue falsamente reconocida como: T-shirt/top\n",
            "La imagen 9904 fue falsamente reconocida como: Dress\n",
            "La imagen 9947 fue falsamente reconocida como: Pullover\n",
            "La imagen 9953 fue falsamente reconocida como: Pullover\n",
            "La imagen 9955 fue falsamente reconocida como: Dress\n",
            "La imagen 9991 fue falsamente reconocida como: T-shirt/top\n",
            "Fin de la lista de los que debían ser: Shirt\n",
            "\n",
            "Mostrando la lista de los que debían ser: Sneaker\n",
            "La imagen 12 fue falsamente reconocida como: Bag\n",
            "La imagen 1682 fue falsamente reconocida como: Ankle boot\n",
            "La imagen 2914 fue falsamente reconocida como: Ankle boot\n",
            "La imagen 2965 fue falsamente reconocida como: Ankle boot\n",
            "La imagen 2996 fue falsamente reconocida como: Ankle boot\n",
            "La imagen 3088 fue falsamente reconocida como: Ankle boot\n",
            "La imagen 3123 fue falsamente reconocida como: Ankle boot\n",
            "La imagen 3351 fue falsamente reconocida como: Ankle boot\n",
            "La imagen 3733 fue falsamente reconocida como: Sandal\n",
            "La imagen 4693 fue falsamente reconocida como: Ankle boot\n",
            "La imagen 4859 fue falsamente reconocida como: Sandal\n",
            "La imagen 5316 fue falsamente reconocida como: Ankle boot\n",
            "La imagen 5520 fue falsamente reconocida como: Ankle boot\n",
            "La imagen 6472 fue falsamente reconocida como: Sandal\n",
            "La imagen 6701 fue falsamente reconocida como: Ankle boot\n",
            "La imagen 7664 fue falsamente reconocida como: Ankle boot\n",
            "La imagen 7761 fue falsamente reconocida como: Ankle boot\n",
            "La imagen 8505 fue falsamente reconocida como: Ankle boot\n",
            "La imagen 8714 fue falsamente reconocida como: Sandal\n",
            "La imagen 9197 fue falsamente reconocida como: Ankle boot\n",
            "Fin de la lista de los que debían ser: Sneaker\n",
            "\n",
            "Mostrando la lista de los que debían ser: Bag\n",
            "La imagen 352 fue falsamente reconocida como: T-shirt/top\n",
            "La imagen 529 fue falsamente reconocida como: T-shirt/top\n",
            "La imagen 635 fue falsamente reconocida como: Pullover\n",
            "La imagen 669 fue falsamente reconocida como: T-shirt/top\n",
            "La imagen 1066 fue falsamente reconocida como: Shirt\n",
            "La imagen 1286 fue falsamente reconocida como: Shirt\n",
            "La imagen 1300 fue falsamente reconocida como: Sandal\n",
            "La imagen 1557 fue falsamente reconocida como: Dress\n",
            "La imagen 1846 fue falsamente reconocida como: T-shirt/top\n",
            "La imagen 1980 fue falsamente reconocida como: Dress\n",
            "La imagen 2476 fue falsamente reconocida como: Dress\n",
            "La imagen 2905 fue falsamente reconocida como: Dress\n",
            "La imagen 3008 fue falsamente reconocida como: T-shirt/top\n",
            "La imagen 3602 fue falsamente reconocida como: Shirt\n",
            "La imagen 3765 fue falsamente reconocida como: Pullover\n",
            "La imagen 4071 fue falsamente reconocida como: Pullover\n",
            "La imagen 4456 fue falsamente reconocida como: Shirt\n",
            "La imagen 5148 fue falsamente reconocida como: Dress\n",
            "La imagen 5395 fue falsamente reconocida como: T-shirt/top\n",
            "La imagen 5470 fue falsamente reconocida como: Shirt\n",
            "La imagen 6233 fue falsamente reconocida como: Shirt\n",
            "La imagen 6314 fue falsamente reconocida como: Dress\n",
            "La imagen 6441 fue falsamente reconocida como: Dress\n",
            "La imagen 6565 fue falsamente reconocida como: Sneaker\n",
            "La imagen 6620 fue falsamente reconocida como: Shirt\n",
            "La imagen 6916 fue falsamente reconocida como: Shirt\n",
            "La imagen 8888 fue falsamente reconocida como: Coat\n",
            "La imagen 9022 fue falsamente reconocida como: Shirt\n",
            "La imagen 9560 fue falsamente reconocida como: Shirt\n",
            "La imagen 9590 fue falsamente reconocida como: Pullover\n",
            "La imagen 9856 fue falsamente reconocida como: T-shirt/top\n",
            "Fin de la lista de los que debían ser: Bag\n",
            "\n",
            "Mostrando la lista de los que debían ser: Ankle boot\n",
            "La imagen 23 fue falsamente reconocida como: Sandal\n",
            "La imagen 68 fue falsamente reconocida como: Sneaker\n",
            "La imagen 107 fue falsamente reconocida como: Sneaker\n",
            "La imagen 316 fue falsamente reconocida como: Sneaker\n",
            "La imagen 441 fue falsamente reconocida como: Sneaker\n",
            "La imagen 1544 fue falsamente reconocida como: Sandal\n",
            "La imagen 1632 fue falsamente reconocida como: Sneaker\n",
            "La imagen 1942 fue falsamente reconocida como: Sneaker\n",
            "La imagen 1954 fue falsamente reconocida como: Sneaker\n",
            "La imagen 2316 fue falsamente reconocida como: Sneaker\n",
            "La imagen 2903 fue falsamente reconocida como: Sneaker\n",
            "La imagen 3745 fue falsamente reconocida como: Sneaker\n",
            "La imagen 3807 fue falsamente reconocida como: Sneaker\n",
            "La imagen 3999 fue falsamente reconocida como: Sandal\n",
            "La imagen 4404 fue falsamente reconocida como: Sneaker\n",
            "La imagen 4568 fue falsamente reconocida como: Sneaker\n",
            "La imagen 4850 fue falsamente reconocida como: Sneaker\n",
            "La imagen 5009 fue falsamente reconocida como: Sneaker\n",
            "La imagen 5101 fue falsamente reconocida como: Sneaker\n",
            "La imagen 5512 fue falsamente reconocida como: Shirt\n",
            "La imagen 5938 fue falsamente reconocida como: Sneaker\n",
            "La imagen 5946 fue falsamente reconocida como: Sandal\n",
            "La imagen 6733 fue falsamente reconocida como: Sneaker\n",
            "La imagen 6984 fue falsamente reconocida como: Sneaker\n",
            "La imagen 7028 fue falsamente reconocida como: Sneaker\n",
            "La imagen 7078 fue falsamente reconocida como: Sneaker\n",
            "La imagen 7464 fue falsamente reconocida como: Sneaker\n",
            "La imagen 7936 fue falsamente reconocida como: Sneaker\n",
            "La imagen 8525 fue falsamente reconocida como: Sneaker\n",
            "La imagen 8557 fue falsamente reconocida como: Sandal\n",
            "La imagen 8688 fue falsamente reconocida como: Sandal\n",
            "La imagen 8818 fue falsamente reconocida como: T-shirt/top\n",
            "La imagen 8952 fue falsamente reconocida como: Sneaker\n",
            "La imagen 9835 fue falsamente reconocida como: Sneaker\n",
            "Fin de la lista de los que debían ser: Ankle boot\n",
            "\n"
          ]
        }
      ]
    },
    {
      "cell_type": "code",
      "source": [
        "#Corroboramos la imagen falsamente reconocida\n",
        "plt.imshow(x_test[155], cmap=plt.cm.gray)"
      ],
      "metadata": {
        "colab": {
          "base_uri": "https://localhost:8080/",
          "height": 447
        },
        "id": "iNt42CCvGVwN",
        "outputId": "cd1075ad-4091-4374-f880-0e8465a5dd81"
      },
      "execution_count": null,
      "outputs": [
        {
          "output_type": "execute_result",
          "data": {
            "text/plain": [
              "<matplotlib.image.AxesImage at 0x7d62b42e23b0>"
            ]
          },
          "metadata": {},
          "execution_count": 38
        },
        {
          "output_type": "display_data",
          "data": {
            "text/plain": [
              "<Figure size 640x480 with 1 Axes>"
            ],
            "image/png": "[encoded data removed]"
          },
          "metadata": {}
        }
      ]
    },
    {
      "cell_type": "code",
      "source": [
        "#predictions[155]\n",
        "np.argmax(predictions[155])"
      ],
      "metadata": {
        "colab": {
          "base_uri": "https://localhost:8080/"
        },
        "id": "WPpK-CX9GXcU",
        "outputId": "42821992-82f6-4236-dfeb-60c5860458a6"
      },
      "execution_count": null,
      "outputs": [
        {
          "output_type": "execute_result",
          "data": {
            "text/plain": [
              "0"
            ]
          },
          "metadata": {},
          "execution_count": 39
        }
      ]
    },
    {
      "cell_type": "code",
      "source": [
        "print(y_test[155])\n",
        "print(f\"El tag correspondiente es: {tag_list[np.argmax(y_test[155])]}\")"
      ],
      "metadata": {
        "colab": {
          "base_uri": "https://localhost:8080/"
        },
        "id": "1cm2F_WkGZQS",
        "outputId": "c37aa533-fa0b-4c04-e3ac-8db18fd01ad7"
      },
      "execution_count": null,
      "outputs": [
        {
          "output_type": "stream",
          "name": "stdout",
          "text": [
            "[1. 0. 0. 0. 0. 0. 0. 0. 0. 0.]\n",
            "El tag correspondiente es: T-shirt/top\n"
          ]
        }
      ]
    },
    {
      "cell_type": "markdown",
      "source": [
        "Simple CNN cuenta con una precisión del 93.38%\n",
        "\n",
        "ResNet18 cuenta con una precisión del 93.17%\n",
        "\n",
        "StyleNet AI (nosotros) cuenta con una precisión del 91.57%\n",
        "![image.png](data:image/png;base64,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)\n",
        "\n",
        "El modelo simple CNN alcanza una precisión de 91.37% - 93.38% tardando 5 minutos con 50 segundos y usando modelos obsoletos de Python"
      ],
      "metadata": {
        "id": "V16U0kvhrV1f"
      }
    }
  ]
}